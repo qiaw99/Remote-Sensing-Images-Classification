{
  "nbformat": 4,
  "nbformat_minor": 0,
  "metadata": {
    "colab": {
      "name": "evaluation.ipynb",
      "provenance": []
    },
    "kernelspec": {
      "name": "python3",
      "display_name": "Python 3"
    },
    "language_info": {
      "name": "python"
    }
  },
  "cells": [
    {
      "cell_type": "code",
      "execution_count": 1,
      "metadata": {
        "colab": {
          "base_uri": "https://localhost:8080/"
        },
        "id": "Q08UWQR_eE1D",
        "outputId": "e86ff4cc-5be5-4fb2-cf83-02eadf4247fe"
      },
      "outputs": [
        {
          "output_type": "stream",
          "name": "stdout",
          "text": [
            "Mounted at /content/drive/\n"
          ]
        }
      ],
      "source": [
        "from google.colab import drive\n",
        "drive.mount('/content/drive/')"
      ]
    },
    {
      "cell_type": "code",
      "source": [
        "import tensorflow as tf\n",
        "import os\n",
        "from pathlib import Path\n",
        "import numpy as np\n",
        "import matplotlib.pyplot as plt\n",
        "import matplotlib.image as mpimg"
      ],
      "metadata": {
        "id": "V7nGtnhHeP8y"
      },
      "execution_count": 2,
      "outputs": []
    },
    {
      "cell_type": "code",
      "source": [
        "from tensorflow.keras.models import Model\n",
        "from tensorflow.keras.layers import Dense, Flatten, ReLU, GlobalAveragePooling2D, Input"
      ],
      "metadata": {
        "id": "mlpgBCEpeXK-"
      },
      "execution_count": 4,
      "outputs": []
    },
    {
      "cell_type": "code",
      "source": [
        "class_names = ['agricultural', 'airplane', 'baseballdiamond', 'beach', 'buildings',\n",
        "               'chaparral', 'denseresidential', 'forest', 'freeway', 'golfcourse',\n",
        "               'harbor', 'intersection', 'mediumresidential', 'mobilehomepark',\n",
        "               'overpass', 'parkinglot', 'river', 'runway', 'sparseresidential',\n",
        "               'storagetanks', 'tenniscourt']"
      ],
      "metadata": {
        "id": "w7GxBVXJeaRr"
      },
      "execution_count": 6,
      "outputs": []
    },
    {
      "cell_type": "code",
      "source": [
        "# Instantiate the ResNet50 model\n",
        "conv_base =tf.keras.applications.resnet.ResNet50(input_shape=(256, 256, 3),\n",
        "                          include_top=False,\n",
        "                          weights='imagenet')\n",
        "\n",
        "# freeze the layers\n",
        "for layer in conv_base.layers:\n",
        "  layer.trainable = False\n",
        "\n",
        "names = []\n",
        "for layer in conv_base.layers:\n",
        "  names.append(layer.name)\n",
        "\n",
        "names[-1] # getting the name of the last conv layer\n",
        "\n",
        "last_layer = conv_base.get_layer('conv5_block3_out')\n",
        "print('last layer output shape: ', last_layer.output_shape)\n",
        "last_output = last_layer.output\n",
        "\n",
        "inputs = Input(shape = (256, 256, 3))\n",
        "x = conv_base(inputs)\n",
        "x = GlobalAveragePooling2D()(x)\n",
        "x = Flatten()(x)\n",
        "# Add a fully connected layer with 512 hidden units and ReLU activation\n",
        "x = Dense(512, activation='relu')(x)\n",
        "# Add a final softmax layer for classification\n",
        "output = Dense(len(class_names), activation='softmax')(x)\n",
        "\n",
        "model = Model(inputs, output)"
      ],
      "metadata": {
        "colab": {
          "base_uri": "https://localhost:8080/"
        },
        "id": "6WBW0UIaeTeJ",
        "outputId": "fe22c01b-6a29-4ab4-d3e0-3987c4dd625a"
      },
      "execution_count": 7,
      "outputs": [
        {
          "output_type": "stream",
          "name": "stdout",
          "text": [
            "last layer output shape:  (None, 8, 8, 2048)\n"
          ]
        }
      ]
    },
    {
      "cell_type": "code",
      "source": [
        "os.chdir(\"drive/MyDrive/Challenge_dataset/\")"
      ],
      "metadata": {
        "id": "hJD7P4fCesWx"
      },
      "execution_count": 9,
      "outputs": []
    },
    {
      "cell_type": "code",
      "source": [
        "model.load_weights('./checkpoints/my_checkpoint')"
      ],
      "metadata": {
        "colab": {
          "base_uri": "https://localhost:8080/"
        },
        "id": "XFczeo66ecKJ",
        "outputId": "141d1b88-6017-425b-bb07-5126de4d095f"
      },
      "execution_count": 10,
      "outputs": [
        {
          "output_type": "execute_result",
          "data": {
            "text/plain": [
              "<tensorflow.python.training.tracking.util.CheckpointLoadStatus at 0x7f6dc895a2d0>"
            ]
          },
          "metadata": {},
          "execution_count": 10
        }
      ]
    },
    {
      "cell_type": "code",
      "source": [
        "with open(\"test.npy\", \"rb\") as f:\n",
        "  X_val = np.load(f)\n",
        "  y_val = np.load(f)\n"
      ],
      "metadata": {
        "id": "BtM71gWsev3w"
      },
      "execution_count": 11,
      "outputs": []
    },
    {
      "cell_type": "code",
      "source": [
        "X_val = X_val / 255.0"
      ],
      "metadata": {
        "id": "7wcbX4Rqexcr"
      },
      "execution_count": 12,
      "outputs": []
    },
    {
      "cell_type": "code",
      "source": [
        "classif_prob = model.predict(X_val)\n",
        "pred_classes_argmax = np.argmax(classif_prob,axis=-1)"
      ],
      "metadata": {
        "id": "rpQIHrure11i"
      },
      "execution_count": 13,
      "outputs": []
    },
    {
      "cell_type": "code",
      "source": [
        "predicted_cls = pred_classes_argmax[0]\n",
        "print(\"Predicted class:\", predicted_cls)"
      ],
      "metadata": {
        "colab": {
          "base_uri": "https://localhost:8080/"
        },
        "id": "ZgqsT7vse3lt",
        "outputId": "df92559e-d20b-4022-8b77-ee9b9deae2c8"
      },
      "execution_count": 14,
      "outputs": [
        {
          "output_type": "stream",
          "name": "stdout",
          "text": [
            "Predicted class: 0\n"
          ]
        }
      ]
    },
    {
      "cell_type": "code",
      "source": [
        "from tensorflow.keras.optimizers import RMSprop\n",
        "\n",
        "# compile the model\n",
        "model.compile(optimizer=RMSprop(lr=0.001),\n",
        "              loss='SparseCategoricalCrossentropy',\n",
        "              metrics=['accuracy'])"
      ],
      "metadata": {
        "colab": {
          "base_uri": "https://localhost:8080/"
        },
        "id": "S9Z26RulfNAA",
        "outputId": "2c3386e4-0483-479f-8184-c556012cb4a9"
      },
      "execution_count": 16,
      "outputs": [
        {
          "output_type": "stream",
          "name": "stderr",
          "text": [
            "/usr/local/lib/python3.7/dist-packages/keras/optimizer_v2/rmsprop.py:130: UserWarning: The `lr` argument is deprecated, use `learning_rate` instead.\n",
            "  super(RMSprop, self).__init__(name, **kwargs)\n"
          ]
        }
      ]
    },
    {
      "cell_type": "code",
      "source": [
        "values = model.evaluate(X_val, y_val)\n",
        "print(\"{}:{},{}:{}.\".format(model.metrics_names[0],values[0],model.metrics_names[1],values[1]))"
      ],
      "metadata": {
        "colab": {
          "base_uri": "https://localhost:8080/"
        },
        "id": "GQTokrsne435",
        "outputId": "ac92f1ff-f238-4267-ec43-a3da2f8a2867"
      },
      "execution_count": 17,
      "outputs": [
        {
          "output_type": "stream",
          "name": "stdout",
          "text": [
            "9/9 [==============================] - 59s 6s/step - loss: 3.2318 - accuracy: 0.4167\n",
            "loss:3.2318239212036133,accuracy:0.4166666567325592.\n"
          ]
        }
      ]
    }
  ]
}