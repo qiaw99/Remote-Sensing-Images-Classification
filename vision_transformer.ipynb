{
 "cells": [
  {
   "cell_type": "code",
   "execution_count": 1,
   "metadata": {
    "colab": {
     "base_uri": "https://localhost:8080/"
    },
    "id": "l97380xvVPCb",
    "outputId": "2f46e7a2-2b12-4d58-b3ca-5cfd4edeb458"
   },
   "outputs": [
    {
     "name": "stdout",
     "output_type": "stream",
     "text": [
      "Requirement already satisfied: tensorflow-addons in /usr/local/lib/python3.7/dist-packages (0.16.1)\n",
      "Requirement already satisfied: typeguard>=2.7 in /usr/local/lib/python3.7/dist-packages (from tensorflow-addons) (2.7.1)\n"
     ]
    }
   ],
   "source": [
    "pip install -U tensorflow-addons"
   ]
  },
  {
   "cell_type": "code",
   "execution_count": 2,
   "metadata": {
    "id": "T9er3vcQUvxO"
   },
   "outputs": [],
   "source": [
    "import numpy as np\n",
    "import tensorflow as tf\n",
    "from tensorflow import keras\n",
    "from tensorflow.keras import layers\n",
    "import tensorflow_addons as tfa"
   ]
  },
  {
   "cell_type": "code",
   "execution_count": 3,
   "metadata": {
    "colab": {
     "base_uri": "https://localhost:8080/"
    },
    "id": "rXp2a1jUVxiL",
    "outputId": "0a40c0bc-9c27-44c1-8701-24550cac1461"
   },
   "outputs": [
    {
     "name": "stdout",
     "output_type": "stream",
     "text": [
      "Drive already mounted at /content/drive/; to attempt to forcibly remount, call drive.mount(\"/content/drive/\", force_remount=True).\n"
     ]
    }
   ],
   "source": [
    "from google.colab import drive\n",
    "drive.mount('/content/drive/')"
   ]
  },
  {
   "cell_type": "code",
   "execution_count": 4,
   "metadata": {
    "colab": {
     "base_uri": "https://localhost:8080/"
    },
    "id": "f3t-24_VV0n-",
    "outputId": "edfec400-275e-431d-b8de-b4e4e1a2a994"
   },
   "outputs": [
    {
     "name": "stdout",
     "output_type": "stream",
     "text": [
      "Tue Apr 26 21:13:53 2022       \n",
      "+-----------------------------------------------------------------------------+\n",
      "| NVIDIA-SMI 460.32.03    Driver Version: 460.32.03    CUDA Version: 11.2     |\n",
      "|-------------------------------+----------------------+----------------------+\n",
      "| GPU  Name        Persistence-M| Bus-Id        Disp.A | Volatile Uncorr. ECC |\n",
      "| Fan  Temp  Perf  Pwr:Usage/Cap|         Memory-Usage | GPU-Util  Compute M. |\n",
      "|                               |                      |               MIG M. |\n",
      "|===============================+======================+======================|\n",
      "|   0  Tesla T4            Off  | 00000000:00:04.0 Off |                    0 |\n",
      "| N/A   65C    P8    10W /  70W |      0MiB / 15109MiB |      0%      Default |\n",
      "|                               |                      |                  N/A |\n",
      "+-------------------------------+----------------------+----------------------+\n",
      "                                                                               \n",
      "+-----------------------------------------------------------------------------+\n",
      "| Processes:                                                                  |\n",
      "|  GPU   GI   CI        PID   Type   Process name                  GPU Memory |\n",
      "|        ID   ID                                                   Usage      |\n",
      "|=============================================================================|\n",
      "|  No running processes found                                                 |\n",
      "+-----------------------------------------------------------------------------+\n"
     ]
    }
   ],
   "source": [
    "!nvidia-smi"
   ]
  },
  {
   "cell_type": "code",
   "execution_count": 5,
   "metadata": {
    "id": "Jct8MfsgWDDv"
   },
   "outputs": [],
   "source": [
    "USE_GPU = 1"
   ]
  },
  {
   "cell_type": "code",
   "execution_count": 6,
   "metadata": {
    "colab": {
     "base_uri": "https://localhost:8080/"
    },
    "id": "UEFoXVIaWELq",
    "outputId": "573b203f-ab4b-4549-b28f-d5d1a5abfc9e"
   },
   "outputs": [
    {
     "name": "stdout",
     "output_type": "stream",
     "text": [
      "TensorFlow version: 2.8.0\n",
      "\n",
      "Available GPU Devices:\n",
      "  /physical_device:GPU:0 GPU\n",
      "\n",
      "Visible GPU Devices:\n",
      "  /physical_device:GPU:0 GPU\n"
     ]
    }
   ],
   "source": [
    "# Print the installed TensorFlow version\n",
    "print(f'TensorFlow version: {tf.__version__}\\n')\n",
    "\n",
    "# Get all GPU devices on this server\n",
    "gpu_devices = tf.config.list_physical_devices('GPU')\n",
    "\n",
    "# Print the name and the type of all GPU devices\n",
    "print('Available GPU Devices:')\n",
    "for gpu in gpu_devices:\n",
    "    print(' ', gpu.name, gpu.device_type)\n",
    "    \n",
    "# Set only the GPU specified as USE_GPU to be visible\n",
    "# tf.config.set_visible_devices(gpu_devices[USE_GPU], 'GPU')\n",
    "\n",
    "# Get all visible GPU  devices on this server\n",
    "visible_devices = tf.config.get_visible_devices('GPU')\n",
    "\n",
    "# Print the name and the type of all visible GPU devices\n",
    "print('\\nVisible GPU Devices:')\n",
    "for gpu in visible_devices:\n",
    "    print(' ', gpu.name, gpu.device_type)\n",
    "    \n",
    "# Set the visible device(s) to not allocate all available memory at once,\n",
    "# but rather let the memory grow whenever needed\n",
    "for gpu in visible_devices:\n",
    "    tf.config.experimental.set_memory_growth(gpu, True)"
   ]
  },
  {
   "cell_type": "markdown",
   "metadata": {
    "id": "kdOoMg_eUvxP"
   },
   "source": [
    "## Prepare the data"
   ]
  },
  {
   "cell_type": "code",
   "execution_count": 7,
   "metadata": {
    "id": "8RpHVH-mUvxQ"
   },
   "outputs": [],
   "source": [
    "num_classes = 21\n",
    "input_shape = (256, 256, 3)"
   ]
  },
  {
   "cell_type": "code",
   "execution_count": 8,
   "metadata": {
    "id": "_KwfJ1DIWLhc"
   },
   "outputs": [],
   "source": [
    "import os\n",
    "os.chdir(\"drive/MyDrive/Challenge_dataset/\")"
   ]
  },
  {
   "cell_type": "code",
   "execution_count": 9,
   "metadata": {
    "id": "tFHmocz4WQTk"
   },
   "outputs": [],
   "source": [
    "with open(\"train.npy\", \"rb\") as f:\n",
    "  X = np.load(f)\n",
    "  y = np.load(f)\n",
    "  \n",
    "\n",
    "# Normalize pixel values to be between 0 and 1\n",
    "X = X / 255.0"
   ]
  },
  {
   "cell_type": "code",
   "execution_count": 10,
   "metadata": {
    "id": "nvJoRbeCWUGD"
   },
   "outputs": [],
   "source": [
    "from sklearn.model_selection import train_test_split\n",
    "\n",
    "X_train, X_test, y_train, y_test = train_test_split(X, y, test_size=0.2, shuffle=True)"
   ]
  },
  {
   "cell_type": "markdown",
   "metadata": {
    "id": "V_fC8FvTUvxR"
   },
   "source": [
    "## Configure the hyperparameters"
   ]
  },
  {
   "cell_type": "code",
   "execution_count": 11,
   "metadata": {
    "id": "5xQJClUVUvxR"
   },
   "outputs": [],
   "source": [
    "learning_rate = 0.001\n",
    "weight_decay = 0.0001\n",
    "batch_size = 64\n",
    "num_epochs = 140\n",
    "image_size = 256  # We'll resize input images to this size\n",
    "patch_size = 16  # Size of the patches to be extract from the input images\n",
    "num_patches = (image_size // patch_size) ** 2\n",
    "projection_dim = 128\n",
    "num_heads = 4\n",
    "transformer_units = [\n",
    "    projection_dim * 2,\n",
    "    projection_dim,\n",
    "]  # Size of the transformer layers\n",
    "transformer_layers = 8\n",
    "mlp_head_units = [2048, 1024]  # Size of the dense layers of the final classifier\n"
   ]
  },
  {
   "cell_type": "markdown",
   "metadata": {
    "id": "JVbY7PK8UvxS"
   },
   "source": [
    "## Use data augmentation"
   ]
  },
  {
   "cell_type": "code",
   "execution_count": 12,
   "metadata": {
    "id": "vFiIrGmgUvxS"
   },
   "outputs": [],
   "source": [
    "data_augmentation = keras.Sequential(\n",
    "    [\n",
    "        layers.Normalization(),\n",
    "        layers.Resizing(image_size, image_size),\n",
    "        layers.RandomFlip(\"horizontal\"),\n",
    "        layers.RandomRotation(factor=0.02),\n",
    "        layers.RandomZoom(\n",
    "            height_factor=0.2, width_factor=0.2\n",
    "        ),\n",
    "    ],\n",
    "    name=\"data_augmentation\",\n",
    ")\n",
    "# Compute the mean and the variance of the training data for normalization.\n",
    "data_augmentation.layers[0].adapt(X_train)\n"
   ]
  },
  {
   "cell_type": "markdown",
   "metadata": {
    "id": "zEjDJp2cUvxT"
   },
   "source": [
    "## Implement multilayer perceptron"
   ]
  },
  {
   "cell_type": "code",
   "execution_count": 13,
   "metadata": {
    "id": "1jxzBMKrUvxT"
   },
   "outputs": [],
   "source": [
    "\n",
    "def mlp(x, hidden_units, dropout_rate):\n",
    "    for units in hidden_units:\n",
    "        x = layers.Dense(units, activation=tf.nn.gelu)(x)\n",
    "        x = layers.Dropout(dropout_rate)(x)\n",
    "    return x\n"
   ]
  },
  {
   "cell_type": "markdown",
   "metadata": {
    "id": "ORKFr7RdUvxT"
   },
   "source": [
    "## Implement patch creation as a layer"
   ]
  },
  {
   "cell_type": "code",
   "execution_count": 14,
   "metadata": {
    "id": "m3381DzoUvxU"
   },
   "outputs": [],
   "source": [
    "\n",
    "class Patches(layers.Layer):\n",
    "    def __init__(self, patch_size):\n",
    "        super(Patches, self).__init__()\n",
    "        self.patch_size = patch_size\n",
    "\n",
    "    def call(self, images):\n",
    "        batch_size = tf.shape(images)[0]\n",
    "        patches = tf.image.extract_patches(\n",
    "            images=images,\n",
    "            sizes=[1, self.patch_size, self.patch_size, 1],\n",
    "            strides=[1, self.patch_size, self.patch_size, 1],\n",
    "            rates=[1, 1, 1, 1],\n",
    "            padding=\"VALID\",\n",
    "        )\n",
    "        patch_dims = patches.shape[-1]\n",
    "        patches = tf.reshape(patches, [batch_size, -1, patch_dims])\n",
    "        return patches\n"
   ]
  },
  {
   "cell_type": "code",
   "execution_count": 15,
   "metadata": {
    "colab": {
     "base_uri": "https://localhost:8080/",
     "height": 548
    },
    "id": "0cipk7M9UvxU",
    "outputId": "36c47204-b39c-481c-f7c0-e3e956e65ec1"
   },
   "outputs": [
    {
     "name": "stdout",
     "output_type": "stream",
     "text": [
      "Image size: 256 X 256\n",
      "Patch size: 16 X 16\n",
      "Patches per image: 256\n",
      "Elements per patch: 768\n"
     ]
    },
    {
     "data": {
      "image/png": "[encoded data removed]",
      "text/plain": [
       "<Figure size 288x288 with 1 Axes>"
      ]
     },
     "metadata": {
      "needs_background": "light"
     },
     "output_type": "display_data"
    },
    {
     "data": {
      "image/png": "[encoded data removed]",
      "text/plain": [
       "<Figure size 288x288 with 256 Axes>"
      ]
     },
     "metadata": {
      "needs_background": "light"
     },
     "output_type": "display_data"
    }
   ],
   "source": [
    "import matplotlib.pyplot as plt\n",
    "\n",
    "plt.figure(figsize=(4, 4))\n",
    "image = X_train[np.random.choice(range(X_train.shape[0]))]\n",
    "plt.imshow(image.astype(\"uint8\"))\n",
    "plt.axis(\"off\")\n",
    "\n",
    "resized_image = tf.image.resize(\n",
    "    tf.convert_to_tensor([image]), size=(image_size, image_size)\n",
    ")\n",
    "patches = Patches(patch_size)(resized_image)\n",
    "print(f\"Image size: {image_size} X {image_size}\")\n",
    "print(f\"Patch size: {patch_size} X {patch_size}\")\n",
    "print(f\"Patches per image: {patches.shape[1]}\")\n",
    "print(f\"Elements per patch: {patches.shape[-1]}\")\n",
    "\n",
    "n = int(np.sqrt(patches.shape[1]))\n",
    "plt.figure(figsize=(4, 4))\n",
    "for i, patch in enumerate(patches[0]):\n",
    "    ax = plt.subplot(n, n, i + 1)\n",
    "    patch_img = tf.reshape(patch, (patch_size, patch_size, 3))\n",
    "    plt.imshow(patch_img.numpy().astype(\"uint8\"))\n",
    "    plt.axis(\"off\")"
   ]
  },
  {
   "cell_type": "markdown",
   "metadata": {
    "id": "Klyt1DN8UvxV"
   },
   "source": [
    "## Implement the patch encoding layer\n",
    "\n",
    "The `PatchEncoder` layer will linearly transform a patch by projecting it into a\n",
    "vector of size `projection_dim`. In addition, it adds a learnable position\n",
    "embedding to the projected vector."
   ]
  },
  {
   "cell_type": "code",
   "execution_count": 16,
   "metadata": {
    "id": "ll_EO6P1UvxV"
   },
   "outputs": [],
   "source": [
    "\n",
    "class PatchEncoder(layers.Layer):\n",
    "    def __init__(self, num_patches, projection_dim):\n",
    "        super(PatchEncoder, self).__init__()\n",
    "        self.num_patches = num_patches\n",
    "        self.projection = layers.Dense(units=projection_dim)\n",
    "        self.position_embedding = layers.Embedding(\n",
    "            input_dim=num_patches, output_dim=projection_dim\n",
    "        )\n",
    "\n",
    "    def call(self, patch):\n",
    "        positions = tf.range(start=0, limit=self.num_patches, delta=1)\n",
    "        encoded = self.projection(patch) + self.position_embedding(positions)\n",
    "        return encoded\n"
   ]
  },
  {
   "cell_type": "code",
   "execution_count": 17,
   "metadata": {
    "id": "0OQcwUniUvxW"
   },
   "outputs": [],
   "source": [
    "\n",
    "def create_vit_classifier():\n",
    "    inputs = layers.Input(shape=input_shape)\n",
    "    # Augment data.\n",
    "    augmented = data_augmentation(inputs)\n",
    "    # Create patches.\n",
    "    patches = Patches(patch_size)(augmented)\n",
    "    # Encode patches.\n",
    "    encoded_patches = PatchEncoder(num_patches, projection_dim)(patches)\n",
    "\n",
    "    # Create multiple layers of the Transformer block.\n",
    "    for _ in range(transformer_layers):\n",
    "        # Layer normalization 1.\n",
    "        x1 = layers.LayerNormalization(epsilon=1e-6)(encoded_patches)\n",
    "        # Create a multi-head attention layer.\n",
    "        attention_output = layers.MultiHeadAttention(\n",
    "            num_heads=num_heads, key_dim=projection_dim, dropout=0.1\n",
    "        )(x1, x1)\n",
    "        # Skip connection 1.\n",
    "        x2 = layers.Add()([attention_output, encoded_patches])\n",
    "        # Layer normalization 2.\n",
    "        x3 = layers.LayerNormalization(epsilon=1e-6)(x2)\n",
    "        # MLP.\n",
    "        x3 = mlp(x3, hidden_units=transformer_units, dropout_rate=0.1)\n",
    "        # Skip connection 2.\n",
    "        encoded_patches = layers.Add()([x3, x2])\n",
    "\n",
    "    # Create a [batch_size, projection_dim] tensor.\n",
    "    representation = layers.LayerNormalization(epsilon=1e-6)(encoded_patches)\n",
    "    representation = layers.Flatten()(representation)\n",
    "    representation = layers.Dropout(0.5)(representation)\n",
    "    # Add MLP.\n",
    "    features = mlp(representation, hidden_units=mlp_head_units, dropout_rate=0.5)\n",
    "    # Classify outputs.\n",
    "    logits = layers.Dense(num_classes)(features)\n",
    "    # Create the Keras model.\n",
    "    model = keras.Model(inputs=inputs, outputs=logits)\n",
    "    return model\n"
   ]
  },
  {
   "cell_type": "markdown",
   "metadata": {
    "id": "enjebQKZUvxW"
   },
   "source": [
    "## Compile, train, and evaluate the mode"
   ]
  },
  {
   "cell_type": "code",
   "execution_count": 18,
   "metadata": {
    "colab": {
     "base_uri": "https://localhost:8080/"
    },
    "id": "GV_moCKCUvxW",
    "outputId": "e36b96e5-919c-475a-a32a-14780048d58a"
   },
   "outputs": [
    {
     "name": "stdout",
     "output_type": "stream",
     "text": [
      "Model: \"model\"\n",
      "__________________________________________________________________________________________________\n",
      " Layer (type)                   Output Shape         Param #     Connected to                     \n",
      "==================================================================================================\n",
      " input_1 (InputLayer)           [(None, 256, 256, 3  0           []                               \n",
      "                                )]                                                                \n",
      "                                                                                                  \n",
      " data_augmentation (Sequential)  (None, 256, 256, 3)  7          ['input_1[0][0]']                \n",
      "                                                                                                  \n",
      " patches_1 (Patches)            (None, None, 768)    0           ['data_augmentation[0][0]']      \n",
      "                                                                                                  \n",
      " patch_encoder (PatchEncoder)   (None, 256, 128)     131200      ['patches_1[0][0]']              \n",
      "                                                                                                  \n",
      " layer_normalization (LayerNorm  (None, 256, 128)    256         ['patch_encoder[0][0]']          \n",
      " alization)                                                                                       \n",
      "                                                                                                  \n",
      " multi_head_attention (MultiHea  (None, 256, 128)    263808      ['layer_normalization[0][0]',    \n",
      " dAttention)                                                      'layer_normalization[0][0]']    \n",
      "                                                                                                  \n",
      " add (Add)                      (None, 256, 128)     0           ['multi_head_attention[0][0]',   \n",
      "                                                                  'patch_encoder[0][0]']          \n",
      "                                                                                                  \n",
      " layer_normalization_1 (LayerNo  (None, 256, 128)    256         ['add[0][0]']                    \n",
      " rmalization)                                                                                     \n",
      "                                                                                                  \n",
      " dense_1 (Dense)                (None, 256, 256)     33024       ['layer_normalization_1[0][0]']  \n",
      "                                                                                                  \n",
      " dropout (Dropout)              (None, 256, 256)     0           ['dense_1[0][0]']                \n",
      "                                                                                                  \n",
      " dense_2 (Dense)                (None, 256, 128)     32896       ['dropout[0][0]']                \n",
      "                                                                                                  \n",
      " dropout_1 (Dropout)            (None, 256, 128)     0           ['dense_2[0][0]']                \n",
      "                                                                                                  \n",
      " add_1 (Add)                    (None, 256, 128)     0           ['dropout_1[0][0]',              \n",
      "                                                                  'add[0][0]']                    \n",
      "                                                                                                  \n",
      " layer_normalization_2 (LayerNo  (None, 256, 128)    256         ['add_1[0][0]']                  \n",
      " rmalization)                                                                                     \n",
      "                                                                                                  \n",
      " multi_head_attention_1 (MultiH  (None, 256, 128)    263808      ['layer_normalization_2[0][0]',  \n",
      " eadAttention)                                                    'layer_normalization_2[0][0]']  \n",
      "                                                                                                  \n",
      " add_2 (Add)                    (None, 256, 128)     0           ['multi_head_attention_1[0][0]', \n",
      "                                                                  'add_1[0][0]']                  \n",
      "                                                                                                  \n",
      " layer_normalization_3 (LayerNo  (None, 256, 128)    256         ['add_2[0][0]']                  \n",
      " rmalization)                                                                                     \n",
      "                                                                                                  \n",
      " dense_3 (Dense)                (None, 256, 256)     33024       ['layer_normalization_3[0][0]']  \n",
      "                                                                                                  \n",
      " dropout_2 (Dropout)            (None, 256, 256)     0           ['dense_3[0][0]']                \n",
      "                                                                                                  \n",
      " dense_4 (Dense)                (None, 256, 128)     32896       ['dropout_2[0][0]']              \n",
      "                                                                                                  \n",
      " dropout_3 (Dropout)            (None, 256, 128)     0           ['dense_4[0][0]']                \n",
      "                                                                                                  \n",
      " add_3 (Add)                    (None, 256, 128)     0           ['dropout_3[0][0]',              \n",
      "                                                                  'add_2[0][0]']                  \n",
      "                                                                                                  \n",
      " layer_normalization_4 (LayerNo  (None, 256, 128)    256         ['add_3[0][0]']                  \n",
      " rmalization)                                                                                     \n",
      "                                                                                                  \n",
      " multi_head_attention_2 (MultiH  (None, 256, 128)    263808      ['layer_normalization_4[0][0]',  \n",
      " eadAttention)                                                    'layer_normalization_4[0][0]']  \n",
      "                                                                                                  \n",
      " add_4 (Add)                    (None, 256, 128)     0           ['multi_head_attention_2[0][0]', \n",
      "                                                                  'add_3[0][0]']                  \n",
      "                                                                                                  \n",
      " layer_normalization_5 (LayerNo  (None, 256, 128)    256         ['add_4[0][0]']                  \n",
      " rmalization)                                                                                     \n",
      "                                                                                                  \n",
      " dense_5 (Dense)                (None, 256, 256)     33024       ['layer_normalization_5[0][0]']  \n",
      "                                                                                                  \n",
      " dropout_4 (Dropout)            (None, 256, 256)     0           ['dense_5[0][0]']                \n",
      "                                                                                                  \n",
      " dense_6 (Dense)                (None, 256, 128)     32896       ['dropout_4[0][0]']              \n",
      "                                                                                                  \n",
      " dropout_5 (Dropout)            (None, 256, 128)     0           ['dense_6[0][0]']                \n",
      "                                                                                                  \n",
      " add_5 (Add)                    (None, 256, 128)     0           ['dropout_5[0][0]',              \n",
      "                                                                  'add_4[0][0]']                  \n",
      "                                                                                                  \n",
      " layer_normalization_6 (LayerNo  (None, 256, 128)    256         ['add_5[0][0]']                  \n",
      " rmalization)                                                                                     \n",
      "                                                                                                  \n",
      " multi_head_attention_3 (MultiH  (None, 256, 128)    263808      ['layer_normalization_6[0][0]',  \n",
      " eadAttention)                                                    'layer_normalization_6[0][0]']  \n",
      "                                                                                                  \n",
      " add_6 (Add)                    (None, 256, 128)     0           ['multi_head_attention_3[0][0]', \n",
      "                                                                  'add_5[0][0]']                  \n",
      "                                                                                                  \n",
      " layer_normalization_7 (LayerNo  (None, 256, 128)    256         ['add_6[0][0]']                  \n",
      " rmalization)                                                                                     \n",
      "                                                                                                  \n",
      " dense_7 (Dense)                (None, 256, 256)     33024       ['layer_normalization_7[0][0]']  \n",
      "                                                                                                  \n",
      " dropout_6 (Dropout)            (None, 256, 256)     0           ['dense_7[0][0]']                \n",
      "                                                                                                  \n",
      " dense_8 (Dense)                (None, 256, 128)     32896       ['dropout_6[0][0]']              \n",
      "                                                                                                  \n",
      " dropout_7 (Dropout)            (None, 256, 128)     0           ['dense_8[0][0]']                \n",
      "                                                                                                  \n",
      " add_7 (Add)                    (None, 256, 128)     0           ['dropout_7[0][0]',              \n",
      "                                                                  'add_6[0][0]']                  \n",
      "                                                                                                  \n",
      " layer_normalization_8 (LayerNo  (None, 256, 128)    256         ['add_7[0][0]']                  \n",
      " rmalization)                                                                                     \n",
      "                                                                                                  \n",
      " multi_head_attention_4 (MultiH  (None, 256, 128)    263808      ['layer_normalization_8[0][0]',  \n",
      " eadAttention)                                                    'layer_normalization_8[0][0]']  \n",
      "                                                                                                  \n",
      " add_8 (Add)                    (None, 256, 128)     0           ['multi_head_attention_4[0][0]', \n",
      "                                                                  'add_7[0][0]']                  \n",
      "                                                                                                  \n",
      " layer_normalization_9 (LayerNo  (None, 256, 128)    256         ['add_8[0][0]']                  \n",
      " rmalization)                                                                                     \n",
      "                                                                                                  \n",
      " dense_9 (Dense)                (None, 256, 256)     33024       ['layer_normalization_9[0][0]']  \n",
      "                                                                                                  \n",
      " dropout_8 (Dropout)            (None, 256, 256)     0           ['dense_9[0][0]']                \n",
      "                                                                                                  \n",
      " dense_10 (Dense)               (None, 256, 128)     32896       ['dropout_8[0][0]']              \n",
      "                                                                                                  \n",
      " dropout_9 (Dropout)            (None, 256, 128)     0           ['dense_10[0][0]']               \n",
      "                                                                                                  \n",
      " add_9 (Add)                    (None, 256, 128)     0           ['dropout_9[0][0]',              \n",
      "                                                                  'add_8[0][0]']                  \n",
      "                                                                                                  \n",
      " layer_normalization_10 (LayerN  (None, 256, 128)    256         ['add_9[0][0]']                  \n",
      " ormalization)                                                                                    \n",
      "                                                                                                  \n",
      " multi_head_attention_5 (MultiH  (None, 256, 128)    263808      ['layer_normalization_10[0][0]', \n",
      " eadAttention)                                                    'layer_normalization_10[0][0]'] \n",
      "                                                                                                  \n",
      " add_10 (Add)                   (None, 256, 128)     0           ['multi_head_attention_5[0][0]', \n",
      "                                                                  'add_9[0][0]']                  \n",
      "                                                                                                  \n",
      " layer_normalization_11 (LayerN  (None, 256, 128)    256         ['add_10[0][0]']                 \n",
      " ormalization)                                                                                    \n",
      "                                                                                                  \n",
      " dense_11 (Dense)               (None, 256, 256)     33024       ['layer_normalization_11[0][0]'] \n",
      "                                                                                                  \n",
      " dropout_10 (Dropout)           (None, 256, 256)     0           ['dense_11[0][0]']               \n",
      "                                                                                                  \n",
      " dense_12 (Dense)               (None, 256, 128)     32896       ['dropout_10[0][0]']             \n",
      "                                                                                                  \n",
      " dropout_11 (Dropout)           (None, 256, 128)     0           ['dense_12[0][0]']               \n",
      "                                                                                                  \n",
      " add_11 (Add)                   (None, 256, 128)     0           ['dropout_11[0][0]',             \n",
      "                                                                  'add_10[0][0]']                 \n",
      "                                                                                                  \n",
      " layer_normalization_12 (LayerN  (None, 256, 128)    256         ['add_11[0][0]']                 \n",
      " ormalization)                                                                                    \n",
      "                                                                                                  \n",
      " multi_head_attention_6 (MultiH  (None, 256, 128)    263808      ['layer_normalization_12[0][0]', \n",
      " eadAttention)                                                    'layer_normalization_12[0][0]'] \n",
      "                                                                                                  \n",
      " add_12 (Add)                   (None, 256, 128)     0           ['multi_head_attention_6[0][0]', \n",
      "                                                                  'add_11[0][0]']                 \n",
      "                                                                                                  \n",
      " layer_normalization_13 (LayerN  (None, 256, 128)    256         ['add_12[0][0]']                 \n",
      " ormalization)                                                                                    \n",
      "                                                                                                  \n",
      " dense_13 (Dense)               (None, 256, 256)     33024       ['layer_normalization_13[0][0]'] \n",
      "                                                                                                  \n",
      " dropout_12 (Dropout)           (None, 256, 256)     0           ['dense_13[0][0]']               \n",
      "                                                                                                  \n",
      " dense_14 (Dense)               (None, 256, 128)     32896       ['dropout_12[0][0]']             \n",
      "                                                                                                  \n",
      " dropout_13 (Dropout)           (None, 256, 128)     0           ['dense_14[0][0]']               \n",
      "                                                                                                  \n",
      " add_13 (Add)                   (None, 256, 128)     0           ['dropout_13[0][0]',             \n",
      "                                                                  'add_12[0][0]']                 \n",
      "                                                                                                  \n",
      " layer_normalization_14 (LayerN  (None, 256, 128)    256         ['add_13[0][0]']                 \n",
      " ormalization)                                                                                    \n",
      "                                                                                                  \n",
      " multi_head_attention_7 (MultiH  (None, 256, 128)    263808      ['layer_normalization_14[0][0]', \n",
      " eadAttention)                                                    'layer_normalization_14[0][0]'] \n",
      "                                                                                                  \n",
      " add_14 (Add)                   (None, 256, 128)     0           ['multi_head_attention_7[0][0]', \n",
      "                                                                  'add_13[0][0]']                 \n",
      "                                                                                                  \n",
      " layer_normalization_15 (LayerN  (None, 256, 128)    256         ['add_14[0][0]']                 \n",
      " ormalization)                                                                                    \n",
      "                                                                                                  \n",
      " dense_15 (Dense)               (None, 256, 256)     33024       ['layer_normalization_15[0][0]'] \n",
      "                                                                                                  \n",
      " dropout_14 (Dropout)           (None, 256, 256)     0           ['dense_15[0][0]']               \n",
      "                                                                                                  \n",
      " dense_16 (Dense)               (None, 256, 128)     32896       ['dropout_14[0][0]']             \n",
      "                                                                                                  \n",
      " dropout_15 (Dropout)           (None, 256, 128)     0           ['dense_16[0][0]']               \n",
      "                                                                                                  \n",
      " add_15 (Add)                   (None, 256, 128)     0           ['dropout_15[0][0]',             \n",
      "                                                                  'add_14[0][0]']                 \n",
      "                                                                                                  \n",
      " layer_normalization_16 (LayerN  (None, 256, 128)    256         ['add_15[0][0]']                 \n",
      " ormalization)                                                                                    \n",
      "                                                                                                  \n",
      " flatten (Flatten)              (None, 32768)        0           ['layer_normalization_16[0][0]'] \n",
      "                                                                                                  \n",
      " dropout_16 (Dropout)           (None, 32768)        0           ['flatten[0][0]']                \n",
      "                                                                                                  \n",
      " dense_17 (Dense)               (None, 2048)         67110912    ['dropout_16[0][0]']             \n",
      "                                                                                                  \n",
      " dropout_17 (Dropout)           (None, 2048)         0           ['dense_17[0][0]']               \n",
      "                                                                                                  \n",
      " dense_18 (Dense)               (None, 1024)         2098176     ['dropout_17[0][0]']             \n",
      "                                                                                                  \n",
      " dropout_18 (Dropout)           (None, 1024)         0           ['dense_18[0][0]']               \n",
      "                                                                                                  \n",
      " dense_19 (Dense)               (None, 21)           21525       ['dropout_18[0][0]']             \n",
      "                                                                                                  \n",
      "==================================================================================================\n",
      "Total params: 72,003,996\n",
      "Trainable params: 72,003,989\n",
      "Non-trainable params: 7\n",
      "__________________________________________________________________________________________________\n"
     ]
    }
   ],
   "source": [
    "\n",
    "def run_experiment(model):\n",
    "    optimizer = tfa.optimizers.AdamW(\n",
    "        learning_rate=learning_rate, weight_decay=weight_decay\n",
    "    )\n",
    "\n",
    "    model.compile(\n",
    "        optimizer=optimizer,\n",
    "        loss=keras.losses.SparseCategoricalCrossentropy(from_logits=True),\n",
    "        metrics=[\n",
    "            keras.metrics.SparseCategoricalAccuracy(name=\"accuracy\"),\n",
    "            keras.metrics.SparseTopKCategoricalAccuracy(5, name=\"top-5-accuracy\"),\n",
    "        ],\n",
    "    )\n",
    "\n",
    "    checkpoint_filepath = \"/tmp/checkpoint\"\n",
    "    checkpoint_callback = keras.callbacks.ModelCheckpoint(\n",
    "        checkpoint_filepath,\n",
    "        monitor=\"val_accuracy\",\n",
    "        save_best_only=True,\n",
    "        save_weights_only=True,\n",
    "    )\n",
    "\n",
    "    history = model.fit(\n",
    "        x=X_train,\n",
    "        y=y_train,\n",
    "        batch_size=batch_size,\n",
    "        epochs=num_epochs,\n",
    "        validation_split=0.2,\n",
    "        callbacks=[checkpoint_callback],\n",
    "    )\n",
    "\n",
    "    model.load_weights(checkpoint_filepath)\n",
    "    _, accuracy, top_5_accuracy = model.evaluate(X_test, y_test)\n",
    "    print(f\"Test accuracy: {round(accuracy * 100, 2)}%\")\n",
    "    print(f\"Test top 5 accuracy: {round(top_5_accuracy * 100, 2)}%\")\n",
    "\n",
    "    return history\n",
    "\n",
    "\n",
    "vit_classifier = create_vit_classifier()\n",
    "vit_classifier.summary()\n"
   ]
  },
  {
   "cell_type": "code",
   "execution_count": 19,
   "metadata": {
    "colab": {
     "base_uri": "https://localhost:8080/"
    },
    "id": "EHzcqcOBrngf",
    "outputId": "741fbead-031e-46d2-a3b8-4e36d73c5481"
   },
   "outputs": [
    {
     "name": "stdout",
     "output_type": "stream",
     "text": [
      "Epoch 1/140\n",
      "13/13 [==============================] - 19s 781ms/step - loss: 9.1558 - accuracy: 0.1111 - top-5-accuracy: 0.3773 - val_loss: 4.5096 - val_accuracy: 0.1395 - val_top-5-accuracy: 0.4535\n",
      "Epoch 2/140\n",
      "13/13 [==============================] - 8s 664ms/step - loss: 6.3647 - accuracy: 0.1615 - top-5-accuracy: 0.4354 - val_loss: 3.1065 - val_accuracy: 0.1860 - val_top-5-accuracy: 0.5465\n",
      "Epoch 3/140\n",
      "13/13 [==============================] - 9s 674ms/step - loss: 4.4080 - accuracy: 0.1938 - top-5-accuracy: 0.5375 - val_loss: 2.5099 - val_accuracy: 0.2907 - val_top-5-accuracy: 0.6744\n",
      "Epoch 4/140\n",
      "13/13 [==============================] - 8s 667ms/step - loss: 3.6433 - accuracy: 0.2222 - top-5-accuracy: 0.4845 - val_loss: 2.2943 - val_accuracy: 0.3605 - val_top-5-accuracy: 0.6628\n",
      "Epoch 5/140\n",
      "13/13 [==============================] - 5s 381ms/step - loss: 3.0984 - accuracy: 0.2339 - top-5-accuracy: 0.5258 - val_loss: 2.3970 - val_accuracy: 0.2907 - val_top-5-accuracy: 0.6512\n",
      "Epoch 6/140\n",
      "13/13 [==============================] - 5s 382ms/step - loss: 2.7829 - accuracy: 0.2610 - top-5-accuracy: 0.5801 - val_loss: 2.2564 - val_accuracy: 0.3605 - val_top-5-accuracy: 0.6512\n",
      "Epoch 7/140\n",
      "13/13 [==============================] - 5s 383ms/step - loss: 2.7636 - accuracy: 0.2429 - top-5-accuracy: 0.5711 - val_loss: 2.3439 - val_accuracy: 0.2791 - val_top-5-accuracy: 0.6395\n",
      "Epoch 8/140\n",
      "13/13 [==============================] - 9s 681ms/step - loss: 2.6194 - accuracy: 0.2791 - top-5-accuracy: 0.5982 - val_loss: 2.1425 - val_accuracy: 0.4535 - val_top-5-accuracy: 0.7791\n",
      "Epoch 9/140\n",
      "13/13 [==============================] - 5s 385ms/step - loss: 2.4221 - accuracy: 0.2984 - top-5-accuracy: 0.6408 - val_loss: 2.0969 - val_accuracy: 0.3605 - val_top-5-accuracy: 0.7326\n",
      "Epoch 10/140\n",
      "13/13 [==============================] - 9s 715ms/step - loss: 2.2261 - accuracy: 0.3592 - top-5-accuracy: 0.6912 - val_loss: 1.9921 - val_accuracy: 0.4767 - val_top-5-accuracy: 0.7442\n",
      "Epoch 11/140\n",
      "13/13 [==============================] - 5s 383ms/step - loss: 2.2162 - accuracy: 0.3708 - top-5-accuracy: 0.6848 - val_loss: 2.0409 - val_accuracy: 0.4302 - val_top-5-accuracy: 0.6977\n",
      "Epoch 12/140\n",
      "13/13 [==============================] - 9s 716ms/step - loss: 2.2673 - accuracy: 0.3488 - top-5-accuracy: 0.6938 - val_loss: 1.9193 - val_accuracy: 0.5000 - val_top-5-accuracy: 0.7558\n",
      "Epoch 13/140\n",
      "13/13 [==============================] - 5s 382ms/step - loss: 2.1702 - accuracy: 0.3553 - top-5-accuracy: 0.6770 - val_loss: 1.8400 - val_accuracy: 0.4884 - val_top-5-accuracy: 0.8140\n",
      "Epoch 14/140\n",
      "13/13 [==============================] - 5s 384ms/step - loss: 2.1186 - accuracy: 0.3837 - top-5-accuracy: 0.6925 - val_loss: 2.1350 - val_accuracy: 0.4884 - val_top-5-accuracy: 0.7791\n",
      "Epoch 15/140\n",
      "13/13 [==============================] - 5s 382ms/step - loss: 2.0618 - accuracy: 0.3953 - top-5-accuracy: 0.7028 - val_loss: 1.8463 - val_accuracy: 0.5000 - val_top-5-accuracy: 0.8256\n",
      "Epoch 16/140\n",
      "13/13 [==============================] - 5s 383ms/step - loss: 2.1837 - accuracy: 0.3953 - top-5-accuracy: 0.7364 - val_loss: 1.7527 - val_accuracy: 0.4767 - val_top-5-accuracy: 0.8023\n",
      "Epoch 17/140\n",
      "13/13 [==============================] - 9s 696ms/step - loss: 2.0595 - accuracy: 0.4070 - top-5-accuracy: 0.7248 - val_loss: 1.7068 - val_accuracy: 0.5349 - val_top-5-accuracy: 0.8372\n",
      "Epoch 18/140\n",
      "13/13 [==============================] - 5s 382ms/step - loss: 2.2322 - accuracy: 0.3760 - top-5-accuracy: 0.7119 - val_loss: 1.8520 - val_accuracy: 0.4651 - val_top-5-accuracy: 0.7558\n",
      "Epoch 19/140\n",
      "13/13 [==============================] - 5s 383ms/step - loss: 1.9090 - accuracy: 0.4251 - top-5-accuracy: 0.7700 - val_loss: 1.6128 - val_accuracy: 0.5233 - val_top-5-accuracy: 0.8256\n",
      "Epoch 20/140\n",
      "13/13 [==============================] - 5s 383ms/step - loss: 2.1616 - accuracy: 0.4018 - top-5-accuracy: 0.7739 - val_loss: 1.7282 - val_accuracy: 0.5116 - val_top-5-accuracy: 0.8605\n",
      "Epoch 21/140\n",
      "13/13 [==============================] - 5s 385ms/step - loss: 1.8797 - accuracy: 0.4225 - top-5-accuracy: 0.7829 - val_loss: 1.5557 - val_accuracy: 0.5349 - val_top-5-accuracy: 0.8023\n",
      "Epoch 22/140\n",
      "13/13 [==============================] - 5s 385ms/step - loss: 1.8730 - accuracy: 0.4548 - top-5-accuracy: 0.7804 - val_loss: 1.6778 - val_accuracy: 0.5233 - val_top-5-accuracy: 0.8837\n",
      "Epoch 23/140\n",
      "13/13 [==============================] - 8s 672ms/step - loss: 1.7654 - accuracy: 0.4690 - top-5-accuracy: 0.8023 - val_loss: 1.4342 - val_accuracy: 0.5581 - val_top-5-accuracy: 0.8372\n",
      "Epoch 24/140\n",
      "13/13 [==============================] - 8s 669ms/step - loss: 1.6341 - accuracy: 0.4987 - top-5-accuracy: 0.8127 - val_loss: 1.5195 - val_accuracy: 0.5698 - val_top-5-accuracy: 0.8372\n",
      "Epoch 25/140\n",
      "13/13 [==============================] - 5s 381ms/step - loss: 1.5993 - accuracy: 0.5116 - top-5-accuracy: 0.8359 - val_loss: 1.4495 - val_accuracy: 0.5465 - val_top-5-accuracy: 0.8837\n",
      "Epoch 26/140\n",
      "13/13 [==============================] - 8s 667ms/step - loss: 1.6231 - accuracy: 0.5258 - top-5-accuracy: 0.8385 - val_loss: 1.3401 - val_accuracy: 0.6047 - val_top-5-accuracy: 0.8140\n",
      "Epoch 27/140\n",
      "13/13 [==============================] - 5s 383ms/step - loss: 1.5109 - accuracy: 0.5465 - top-5-accuracy: 0.8579 - val_loss: 1.5190 - val_accuracy: 0.5349 - val_top-5-accuracy: 0.8721\n",
      "Epoch 28/140\n",
      "13/13 [==============================] - 5s 385ms/step - loss: 1.6155 - accuracy: 0.5000 - top-5-accuracy: 0.8152 - val_loss: 1.3913 - val_accuracy: 0.5930 - val_top-5-accuracy: 0.8256\n",
      "Epoch 29/140\n",
      "13/13 [==============================] - 5s 386ms/step - loss: 1.5654 - accuracy: 0.5297 - top-5-accuracy: 0.8514 - val_loss: 1.2876 - val_accuracy: 0.6047 - val_top-5-accuracy: 0.8953\n",
      "Epoch 30/140\n",
      "13/13 [==============================] - 5s 387ms/step - loss: 1.4460 - accuracy: 0.5323 - top-5-accuracy: 0.8786 - val_loss: 1.2361 - val_accuracy: 0.5930 - val_top-5-accuracy: 0.8721\n",
      "Epoch 31/140\n",
      "13/13 [==============================] - 5s 388ms/step - loss: 1.5340 - accuracy: 0.5413 - top-5-accuracy: 0.8514 - val_loss: 1.3619 - val_accuracy: 0.5349 - val_top-5-accuracy: 0.8605\n",
      "Epoch 32/140\n",
      "13/13 [==============================] - 5s 386ms/step - loss: 1.4693 - accuracy: 0.5491 - top-5-accuracy: 0.8669 - val_loss: 1.3896 - val_accuracy: 0.5698 - val_top-5-accuracy: 0.8488\n",
      "Epoch 33/140\n",
      "13/13 [==============================] - 5s 385ms/step - loss: 1.3587 - accuracy: 0.5736 - top-5-accuracy: 0.8747 - val_loss: 1.2611 - val_accuracy: 0.5465 - val_top-5-accuracy: 0.8837\n",
      "Epoch 34/140\n",
      "13/13 [==============================] - 5s 383ms/step - loss: 1.4787 - accuracy: 0.5568 - top-5-accuracy: 0.8941 - val_loss: 1.3943 - val_accuracy: 0.5233 - val_top-5-accuracy: 0.8837\n",
      "Epoch 35/140\n",
      "13/13 [==============================] - 5s 385ms/step - loss: 1.3280 - accuracy: 0.5943 - top-5-accuracy: 0.8863 - val_loss: 1.4111 - val_accuracy: 0.5814 - val_top-5-accuracy: 0.8837\n",
      "Epoch 36/140\n",
      "13/13 [==============================] - 5s 382ms/step - loss: 1.4940 - accuracy: 0.5724 - top-5-accuracy: 0.8721 - val_loss: 1.8179 - val_accuracy: 0.5233 - val_top-5-accuracy: 0.8605\n",
      "Epoch 37/140\n",
      "13/13 [==============================] - 5s 384ms/step - loss: 1.4495 - accuracy: 0.5581 - top-5-accuracy: 0.8798 - val_loss: 1.3852 - val_accuracy: 0.6047 - val_top-5-accuracy: 0.8488\n",
      "Epoch 38/140\n",
      "13/13 [==============================] - 5s 384ms/step - loss: 1.3441 - accuracy: 0.5672 - top-5-accuracy: 0.8863 - val_loss: 1.2484 - val_accuracy: 0.5930 - val_top-5-accuracy: 0.8721\n",
      "Epoch 39/140\n",
      "13/13 [==============================] - 8s 673ms/step - loss: 1.1624 - accuracy: 0.6473 - top-5-accuracy: 0.9109 - val_loss: 1.1911 - val_accuracy: 0.6279 - val_top-5-accuracy: 0.8488\n",
      "Epoch 40/140\n",
      "13/13 [==============================] - 5s 381ms/step - loss: 1.2381 - accuracy: 0.6331 - top-5-accuracy: 0.9251 - val_loss: 1.2824 - val_accuracy: 0.6163 - val_top-5-accuracy: 0.9070\n",
      "Epoch 41/140\n",
      "13/13 [==============================] - 5s 382ms/step - loss: 1.2116 - accuracy: 0.6344 - top-5-accuracy: 0.9238 - val_loss: 1.2403 - val_accuracy: 0.6279 - val_top-5-accuracy: 0.8953\n",
      "Epoch 42/140\n",
      "13/13 [==============================] - 5s 382ms/step - loss: 1.1230 - accuracy: 0.6693 - top-5-accuracy: 0.9225 - val_loss: 1.2569 - val_accuracy: 0.6163 - val_top-5-accuracy: 0.9186\n",
      "Epoch 43/140\n",
      "13/13 [==============================] - 5s 384ms/step - loss: 1.2983 - accuracy: 0.6318 - top-5-accuracy: 0.9070 - val_loss: 1.0683 - val_accuracy: 0.6163 - val_top-5-accuracy: 0.9186\n",
      "Epoch 44/140\n",
      "13/13 [==============================] - 9s 679ms/step - loss: 1.1057 - accuracy: 0.6912 - top-5-accuracy: 0.9147 - val_loss: 1.1891 - val_accuracy: 0.6628 - val_top-5-accuracy: 0.9186\n",
      "Epoch 45/140\n",
      "13/13 [==============================] - 5s 385ms/step - loss: 1.2040 - accuracy: 0.6537 - top-5-accuracy: 0.9341 - val_loss: 1.1396 - val_accuracy: 0.6628 - val_top-5-accuracy: 0.9302\n",
      "Epoch 46/140\n",
      "13/13 [==============================] - 5s 384ms/step - loss: 0.9580 - accuracy: 0.6977 - top-5-accuracy: 0.9561 - val_loss: 1.0223 - val_accuracy: 0.6628 - val_top-5-accuracy: 0.9302\n",
      "Epoch 47/140\n",
      "13/13 [==============================] - 8s 670ms/step - loss: 1.0333 - accuracy: 0.6925 - top-5-accuracy: 0.9457 - val_loss: 1.0967 - val_accuracy: 0.6860 - val_top-5-accuracy: 0.9186\n",
      "Epoch 48/140\n",
      "13/13 [==============================] - 5s 382ms/step - loss: 1.0438 - accuracy: 0.6938 - top-5-accuracy: 0.9522 - val_loss: 1.2235 - val_accuracy: 0.6744 - val_top-5-accuracy: 0.9186\n",
      "Epoch 49/140\n",
      "13/13 [==============================] - 5s 384ms/step - loss: 0.9451 - accuracy: 0.7119 - top-5-accuracy: 0.9522 - val_loss: 1.1079 - val_accuracy: 0.6512 - val_top-5-accuracy: 0.9070\n",
      "Epoch 50/140\n",
      "13/13 [==============================] - 5s 385ms/step - loss: 0.9310 - accuracy: 0.7545 - top-5-accuracy: 0.9561 - val_loss: 1.2600 - val_accuracy: 0.6628 - val_top-5-accuracy: 0.9302\n",
      "Epoch 51/140\n",
      "13/13 [==============================] - 5s 386ms/step - loss: 1.0989 - accuracy: 0.6835 - top-5-accuracy: 0.9432 - val_loss: 1.2759 - val_accuracy: 0.6047 - val_top-5-accuracy: 0.9186\n",
      "Epoch 52/140\n",
      "13/13 [==============================] - 5s 385ms/step - loss: 1.1701 - accuracy: 0.6667 - top-5-accuracy: 0.9341 - val_loss: 1.4036 - val_accuracy: 0.5814 - val_top-5-accuracy: 0.9070\n",
      "Epoch 53/140\n",
      "13/13 [==============================] - 5s 385ms/step - loss: 1.2216 - accuracy: 0.6512 - top-5-accuracy: 0.9264 - val_loss: 1.3247 - val_accuracy: 0.6047 - val_top-5-accuracy: 0.8256\n",
      "Epoch 54/140\n",
      "13/13 [==============================] - 5s 384ms/step - loss: 1.1753 - accuracy: 0.6408 - top-5-accuracy: 0.9380 - val_loss: 1.2980 - val_accuracy: 0.6628 - val_top-5-accuracy: 0.8837\n",
      "Epoch 55/140\n",
      "13/13 [==============================] - 5s 385ms/step - loss: 1.1187 - accuracy: 0.6718 - top-5-accuracy: 0.9380 - val_loss: 1.0701 - val_accuracy: 0.6512 - val_top-5-accuracy: 0.8721\n",
      "Epoch 56/140\n",
      "13/13 [==============================] - 5s 385ms/step - loss: 1.0228 - accuracy: 0.7158 - top-5-accuracy: 0.9509 - val_loss: 1.2108 - val_accuracy: 0.6279 - val_top-5-accuracy: 0.9186\n",
      "Epoch 57/140\n",
      "13/13 [==============================] - 5s 384ms/step - loss: 0.9954 - accuracy: 0.7041 - top-5-accuracy: 0.9574 - val_loss: 1.2032 - val_accuracy: 0.5814 - val_top-5-accuracy: 0.8953\n",
      "Epoch 58/140\n",
      "13/13 [==============================] - 8s 668ms/step - loss: 0.9261 - accuracy: 0.7016 - top-5-accuracy: 0.9535 - val_loss: 0.9511 - val_accuracy: 0.6977 - val_top-5-accuracy: 0.9302\n",
      "Epoch 59/140\n",
      "13/13 [==============================] - 5s 382ms/step - loss: 0.8543 - accuracy: 0.7429 - top-5-accuracy: 0.9587 - val_loss: 1.0244 - val_accuracy: 0.6395 - val_top-5-accuracy: 0.9070\n",
      "Epoch 60/140\n",
      "13/13 [==============================] - 5s 383ms/step - loss: 0.7898 - accuracy: 0.7390 - top-5-accuracy: 0.9638 - val_loss: 1.0236 - val_accuracy: 0.6977 - val_top-5-accuracy: 0.9186\n",
      "Epoch 61/140\n",
      "13/13 [==============================] - 8s 669ms/step - loss: 0.7365 - accuracy: 0.7804 - top-5-accuracy: 0.9690 - val_loss: 0.9898 - val_accuracy: 0.7209 - val_top-5-accuracy: 0.9419\n",
      "Epoch 62/140\n",
      "13/13 [==============================] - 5s 382ms/step - loss: 0.7293 - accuracy: 0.8010 - top-5-accuracy: 0.9703 - val_loss: 1.1841 - val_accuracy: 0.7093 - val_top-5-accuracy: 0.8953\n",
      "Epoch 63/140\n",
      "13/13 [==============================] - 5s 384ms/step - loss: 0.7428 - accuracy: 0.7842 - top-5-accuracy: 0.9716 - val_loss: 1.2748 - val_accuracy: 0.7209 - val_top-5-accuracy: 0.9419\n",
      "Epoch 64/140\n",
      "13/13 [==============================] - 5s 385ms/step - loss: 0.8981 - accuracy: 0.7468 - top-5-accuracy: 0.9755 - val_loss: 1.1534 - val_accuracy: 0.6744 - val_top-5-accuracy: 0.9535\n",
      "Epoch 65/140\n",
      "13/13 [==============================] - 5s 386ms/step - loss: 0.7092 - accuracy: 0.7894 - top-5-accuracy: 0.9767 - val_loss: 0.8852 - val_accuracy: 0.6977 - val_top-5-accuracy: 0.9419\n",
      "Epoch 66/140\n",
      "13/13 [==============================] - 5s 385ms/step - loss: 0.7098 - accuracy: 0.7946 - top-5-accuracy: 0.9716 - val_loss: 0.9278 - val_accuracy: 0.7209 - val_top-5-accuracy: 0.9186\n",
      "Epoch 67/140\n",
      "13/13 [==============================] - 5s 386ms/step - loss: 1.6462 - accuracy: 0.6150 - top-5-accuracy: 0.9057 - val_loss: 1.1102 - val_accuracy: 0.6512 - val_top-5-accuracy: 0.8837\n",
      "Epoch 68/140\n",
      "13/13 [==============================] - 5s 386ms/step - loss: 1.1029 - accuracy: 0.6718 - top-5-accuracy: 0.9276 - val_loss: 1.2151 - val_accuracy: 0.5465 - val_top-5-accuracy: 0.8721\n",
      "Epoch 69/140\n",
      "13/13 [==============================] - 5s 386ms/step - loss: 0.9655 - accuracy: 0.6912 - top-5-accuracy: 0.9419 - val_loss: 1.2311 - val_accuracy: 0.6628 - val_top-5-accuracy: 0.8721\n",
      "Epoch 70/140\n",
      "13/13 [==============================] - 5s 384ms/step - loss: 0.9456 - accuracy: 0.7106 - top-5-accuracy: 0.9496 - val_loss: 1.0822 - val_accuracy: 0.6628 - val_top-5-accuracy: 0.9535\n",
      "Epoch 71/140\n",
      "13/13 [==============================] - 5s 383ms/step - loss: 0.9722 - accuracy: 0.7209 - top-5-accuracy: 0.9406 - val_loss: 1.2101 - val_accuracy: 0.6279 - val_top-5-accuracy: 0.9070\n",
      "Epoch 72/140\n",
      "13/13 [==============================] - 5s 384ms/step - loss: 0.8649 - accuracy: 0.7442 - top-5-accuracy: 0.9612 - val_loss: 1.1001 - val_accuracy: 0.6628 - val_top-5-accuracy: 0.8953\n",
      "Epoch 73/140\n",
      "13/13 [==============================] - 8s 669ms/step - loss: 0.9380 - accuracy: 0.7287 - top-5-accuracy: 0.9548 - val_loss: 0.9167 - val_accuracy: 0.7326 - val_top-5-accuracy: 0.9535\n",
      "Epoch 74/140\n",
      "13/13 [==============================] - 5s 381ms/step - loss: 0.7435 - accuracy: 0.7403 - top-5-accuracy: 0.9690 - val_loss: 1.1272 - val_accuracy: 0.6395 - val_top-5-accuracy: 0.9186\n",
      "Epoch 75/140\n",
      "13/13 [==============================] - 5s 382ms/step - loss: 0.6686 - accuracy: 0.7868 - top-5-accuracy: 0.9716 - val_loss: 1.1371 - val_accuracy: 0.6628 - val_top-5-accuracy: 0.8953\n",
      "Epoch 76/140\n",
      "13/13 [==============================] - 5s 383ms/step - loss: 0.6747 - accuracy: 0.7972 - top-5-accuracy: 0.9690 - val_loss: 0.9558 - val_accuracy: 0.7326 - val_top-5-accuracy: 0.9070\n",
      "Epoch 77/140\n",
      "13/13 [==============================] - 9s 701ms/step - loss: 0.6687 - accuracy: 0.8010 - top-5-accuracy: 0.9858 - val_loss: 0.9850 - val_accuracy: 0.7558 - val_top-5-accuracy: 0.9070\n",
      "Epoch 78/140\n",
      "13/13 [==============================] - 5s 382ms/step - loss: 0.6435 - accuracy: 0.8062 - top-5-accuracy: 0.9755 - val_loss: 1.0284 - val_accuracy: 0.6860 - val_top-5-accuracy: 0.9186\n",
      "Epoch 79/140\n",
      "13/13 [==============================] - 5s 385ms/step - loss: 0.6059 - accuracy: 0.8101 - top-5-accuracy: 0.9729 - val_loss: 0.9527 - val_accuracy: 0.7442 - val_top-5-accuracy: 0.9419\n",
      "Epoch 80/140\n",
      "13/13 [==============================] - 5s 384ms/step - loss: 0.5071 - accuracy: 0.8411 - top-5-accuracy: 0.9884 - val_loss: 0.9516 - val_accuracy: 0.7442 - val_top-5-accuracy: 0.9302\n",
      "Epoch 81/140\n",
      "13/13 [==============================] - 5s 387ms/step - loss: 0.4881 - accuracy: 0.8437 - top-5-accuracy: 0.9871 - val_loss: 0.8968 - val_accuracy: 0.7442 - val_top-5-accuracy: 0.9070\n",
      "Epoch 82/140\n",
      "13/13 [==============================] - 9s 682ms/step - loss: 0.4968 - accuracy: 0.8333 - top-5-accuracy: 0.9871 - val_loss: 0.8228 - val_accuracy: 0.7674 - val_top-5-accuracy: 0.9419\n",
      "Epoch 83/140\n",
      "13/13 [==============================] - 5s 384ms/step - loss: 0.3538 - accuracy: 0.8669 - top-5-accuracy: 0.9935 - val_loss: 0.8816 - val_accuracy: 0.7326 - val_top-5-accuracy: 0.9419\n",
      "Epoch 84/140\n",
      "13/13 [==============================] - 5s 385ms/step - loss: 0.4295 - accuracy: 0.8734 - top-5-accuracy: 0.9948 - val_loss: 0.8579 - val_accuracy: 0.7442 - val_top-5-accuracy: 0.9535\n",
      "Epoch 85/140\n",
      "13/13 [==============================] - 5s 385ms/step - loss: 0.3401 - accuracy: 0.8889 - top-5-accuracy: 0.9922 - val_loss: 0.9146 - val_accuracy: 0.7326 - val_top-5-accuracy: 0.9419\n",
      "Epoch 86/140\n",
      "13/13 [==============================] - 5s 385ms/step - loss: 0.2794 - accuracy: 0.9005 - top-5-accuracy: 0.9922 - val_loss: 0.8395 - val_accuracy: 0.7442 - val_top-5-accuracy: 0.9419\n",
      "Epoch 87/140\n",
      "13/13 [==============================] - 5s 385ms/step - loss: 0.3162 - accuracy: 0.9018 - top-5-accuracy: 0.9961 - val_loss: 1.1524 - val_accuracy: 0.7209 - val_top-5-accuracy: 0.9419\n",
      "Epoch 88/140\n",
      "13/13 [==============================] - 5s 385ms/step - loss: 0.2739 - accuracy: 0.9044 - top-5-accuracy: 0.9948 - val_loss: 1.0017 - val_accuracy: 0.7442 - val_top-5-accuracy: 0.9419\n",
      "Epoch 89/140\n",
      "13/13 [==============================] - 5s 385ms/step - loss: 0.2834 - accuracy: 0.8979 - top-5-accuracy: 0.9948 - val_loss: 0.8851 - val_accuracy: 0.7442 - val_top-5-accuracy: 0.9186\n",
      "Epoch 90/140\n",
      "13/13 [==============================] - 5s 384ms/step - loss: 0.3679 - accuracy: 0.8966 - top-5-accuracy: 0.9961 - val_loss: 0.9667 - val_accuracy: 0.7093 - val_top-5-accuracy: 0.9419\n",
      "Epoch 91/140\n",
      "13/13 [==============================] - 5s 382ms/step - loss: 0.3064 - accuracy: 0.9070 - top-5-accuracy: 0.9948 - val_loss: 0.9845 - val_accuracy: 0.7442 - val_top-5-accuracy: 0.9302\n",
      "Epoch 92/140\n",
      "13/13 [==============================] - 5s 383ms/step - loss: 0.7451 - accuracy: 0.8243 - top-5-accuracy: 0.9832 - val_loss: 1.1711 - val_accuracy: 0.6977 - val_top-5-accuracy: 0.9186\n",
      "Epoch 93/140\n",
      "13/13 [==============================] - 5s 384ms/step - loss: 0.6223 - accuracy: 0.8295 - top-5-accuracy: 0.9884 - val_loss: 1.0183 - val_accuracy: 0.6860 - val_top-5-accuracy: 0.9186\n",
      "Epoch 94/140\n",
      "13/13 [==============================] - 5s 383ms/step - loss: 0.4868 - accuracy: 0.8488 - top-5-accuracy: 0.9871 - val_loss: 0.9953 - val_accuracy: 0.7209 - val_top-5-accuracy: 0.9535\n",
      "Epoch 95/140\n",
      "13/13 [==============================] - 5s 384ms/step - loss: 0.6988 - accuracy: 0.8230 - top-5-accuracy: 0.9884 - val_loss: 1.1253 - val_accuracy: 0.6977 - val_top-5-accuracy: 0.8953\n",
      "Epoch 96/140\n",
      "13/13 [==============================] - 5s 382ms/step - loss: 0.4792 - accuracy: 0.8488 - top-5-accuracy: 0.9884 - val_loss: 1.0702 - val_accuracy: 0.7558 - val_top-5-accuracy: 0.9419\n",
      "Epoch 97/140\n",
      "13/13 [==============================] - 5s 385ms/step - loss: 0.5665 - accuracy: 0.8437 - top-5-accuracy: 0.9871 - val_loss: 0.8591 - val_accuracy: 0.7209 - val_top-5-accuracy: 0.9419\n",
      "Epoch 98/140\n",
      "13/13 [==============================] - 5s 385ms/step - loss: 0.3874 - accuracy: 0.8811 - top-5-accuracy: 0.9910 - val_loss: 1.0356 - val_accuracy: 0.7209 - val_top-5-accuracy: 0.9419\n",
      "Epoch 99/140\n",
      "13/13 [==============================] - 5s 384ms/step - loss: 0.6626 - accuracy: 0.8501 - top-5-accuracy: 0.9819 - val_loss: 0.9646 - val_accuracy: 0.6977 - val_top-5-accuracy: 0.9302\n",
      "Epoch 100/140\n",
      "13/13 [==============================] - 5s 385ms/step - loss: 0.3592 - accuracy: 0.8928 - top-5-accuracy: 0.9897 - val_loss: 0.9730 - val_accuracy: 0.7093 - val_top-5-accuracy: 0.9070\n",
      "Epoch 101/140\n",
      "13/13 [==============================] - 5s 386ms/step - loss: 0.3677 - accuracy: 0.8941 - top-5-accuracy: 0.9974 - val_loss: 0.9646 - val_accuracy: 0.7209 - val_top-5-accuracy: 0.9302\n",
      "Epoch 102/140\n",
      "13/13 [==============================] - 5s 384ms/step - loss: 0.3439 - accuracy: 0.8941 - top-5-accuracy: 0.9948 - val_loss: 1.1483 - val_accuracy: 0.7093 - val_top-5-accuracy: 0.9186\n",
      "Epoch 103/140\n",
      "13/13 [==============================] - 5s 384ms/step - loss: 0.3784 - accuracy: 0.8889 - top-5-accuracy: 0.9974 - val_loss: 0.8815 - val_accuracy: 0.7558 - val_top-5-accuracy: 0.9419\n",
      "Epoch 104/140\n",
      "13/13 [==============================] - 5s 384ms/step - loss: 0.3788 - accuracy: 0.8979 - top-5-accuracy: 0.9935 - val_loss: 0.9416 - val_accuracy: 0.7209 - val_top-5-accuracy: 0.9302\n",
      "Epoch 105/140\n",
      "13/13 [==============================] - 5s 385ms/step - loss: 0.2861 - accuracy: 0.9199 - top-5-accuracy: 0.9948 - val_loss: 1.0369 - val_accuracy: 0.6977 - val_top-5-accuracy: 0.9651\n",
      "Epoch 106/140\n",
      "13/13 [==============================] - 5s 384ms/step - loss: 0.2245 - accuracy: 0.9238 - top-5-accuracy: 0.9922 - val_loss: 0.9322 - val_accuracy: 0.7093 - val_top-5-accuracy: 0.9302\n",
      "Epoch 107/140\n",
      "13/13 [==============================] - 5s 385ms/step - loss: 0.2033 - accuracy: 0.9419 - top-5-accuracy: 0.9974 - val_loss: 1.0568 - val_accuracy: 0.7209 - val_top-5-accuracy: 0.9302\n",
      "Epoch 108/140\n",
      "13/13 [==============================] - 5s 385ms/step - loss: 0.2318 - accuracy: 0.9380 - top-5-accuracy: 0.9948 - val_loss: 1.0598 - val_accuracy: 0.6977 - val_top-5-accuracy: 0.9535\n",
      "Epoch 109/140\n",
      "13/13 [==============================] - 5s 385ms/step - loss: 0.2255 - accuracy: 0.9354 - top-5-accuracy: 0.9987 - val_loss: 1.0355 - val_accuracy: 0.7093 - val_top-5-accuracy: 0.9302\n",
      "Epoch 110/140\n",
      "13/13 [==============================] - 5s 384ms/step - loss: 0.2470 - accuracy: 0.9302 - top-5-accuracy: 0.9948 - val_loss: 0.9757 - val_accuracy: 0.7209 - val_top-5-accuracy: 0.9419\n",
      "Epoch 111/140\n",
      "13/13 [==============================] - 5s 385ms/step - loss: 0.2437 - accuracy: 0.9276 - top-5-accuracy: 0.9974 - val_loss: 1.0695 - val_accuracy: 0.6628 - val_top-5-accuracy: 0.9419\n",
      "Epoch 112/140\n",
      "13/13 [==============================] - 5s 386ms/step - loss: 0.2750 - accuracy: 0.9264 - top-5-accuracy: 0.9961 - val_loss: 1.0476 - val_accuracy: 0.6860 - val_top-5-accuracy: 0.9535\n",
      "Epoch 113/140\n",
      "13/13 [==============================] - 5s 384ms/step - loss: 0.2813 - accuracy: 0.9186 - top-5-accuracy: 0.9961 - val_loss: 0.8579 - val_accuracy: 0.7442 - val_top-5-accuracy: 0.9535\n",
      "Epoch 114/140\n",
      "13/13 [==============================] - 5s 384ms/step - loss: 0.2510 - accuracy: 0.9096 - top-5-accuracy: 0.9987 - val_loss: 1.0713 - val_accuracy: 0.7326 - val_top-5-accuracy: 0.9535\n",
      "Epoch 115/140\n",
      "13/13 [==============================] - 5s 384ms/step - loss: 0.2732 - accuracy: 0.9186 - top-5-accuracy: 0.9987 - val_loss: 1.2342 - val_accuracy: 0.7093 - val_top-5-accuracy: 0.9419\n",
      "Epoch 116/140\n",
      "13/13 [==============================] - 5s 385ms/step - loss: 0.3836 - accuracy: 0.8941 - top-5-accuracy: 0.9948 - val_loss: 0.8535 - val_accuracy: 0.7674 - val_top-5-accuracy: 0.9651\n",
      "Epoch 117/140\n",
      "13/13 [==============================] - 5s 387ms/step - loss: 0.2673 - accuracy: 0.9238 - top-5-accuracy: 1.0000 - val_loss: 1.2477 - val_accuracy: 0.6744 - val_top-5-accuracy: 0.9419\n",
      "Epoch 118/140\n",
      "13/13 [==============================] - 6s 430ms/step - loss: 0.3027 - accuracy: 0.9289 - top-5-accuracy: 0.9961 - val_loss: 0.8191 - val_accuracy: 0.7558 - val_top-5-accuracy: 0.9419\n",
      "Epoch 119/140\n",
      "13/13 [==============================] - 5s 385ms/step - loss: 0.3111 - accuracy: 0.9173 - top-5-accuracy: 0.9987 - val_loss: 1.0827 - val_accuracy: 0.7558 - val_top-5-accuracy: 0.8953\n",
      "Epoch 120/140\n",
      "13/13 [==============================] - 5s 385ms/step - loss: 0.2962 - accuracy: 0.9121 - top-5-accuracy: 0.9961 - val_loss: 1.0316 - val_accuracy: 0.7326 - val_top-5-accuracy: 0.9302\n",
      "Epoch 121/140\n",
      "13/13 [==============================] - 5s 384ms/step - loss: 0.3725 - accuracy: 0.9005 - top-5-accuracy: 0.9974 - val_loss: 0.8780 - val_accuracy: 0.7558 - val_top-5-accuracy: 0.9419\n",
      "Epoch 122/140\n",
      "13/13 [==============================] - 5s 385ms/step - loss: 0.4190 - accuracy: 0.8953 - top-5-accuracy: 0.9961 - val_loss: 0.9547 - val_accuracy: 0.7674 - val_top-5-accuracy: 0.9535\n",
      "Epoch 123/140\n",
      "13/13 [==============================] - 5s 385ms/step - loss: 0.3358 - accuracy: 0.9096 - top-5-accuracy: 0.9884 - val_loss: 0.7340 - val_accuracy: 0.7674 - val_top-5-accuracy: 0.9535\n",
      "Epoch 124/140\n",
      "13/13 [==============================] - 5s 385ms/step - loss: 0.3424 - accuracy: 0.9031 - top-5-accuracy: 0.9987 - val_loss: 0.9046 - val_accuracy: 0.7326 - val_top-5-accuracy: 0.9535\n",
      "Epoch 125/140\n",
      "13/13 [==============================] - 5s 385ms/step - loss: 0.4003 - accuracy: 0.9005 - top-5-accuracy: 0.9922 - val_loss: 1.0435 - val_accuracy: 0.6628 - val_top-5-accuracy: 0.9070\n",
      "Epoch 126/140\n",
      "13/13 [==============================] - 5s 386ms/step - loss: 0.3535 - accuracy: 0.8941 - top-5-accuracy: 0.9961 - val_loss: 0.9024 - val_accuracy: 0.7558 - val_top-5-accuracy: 0.9186\n",
      "Epoch 127/140\n",
      "13/13 [==============================] - 5s 385ms/step - loss: 0.2251 - accuracy: 0.9225 - top-5-accuracy: 0.9974 - val_loss: 0.8721 - val_accuracy: 0.7442 - val_top-5-accuracy: 0.9070\n",
      "Epoch 128/140\n",
      "13/13 [==============================] - 5s 386ms/step - loss: 0.5134 - accuracy: 0.8579 - top-5-accuracy: 0.9845 - val_loss: 1.1734 - val_accuracy: 0.6628 - val_top-5-accuracy: 0.8837\n",
      "Epoch 129/140\n",
      "13/13 [==============================] - 5s 385ms/step - loss: 0.3882 - accuracy: 0.8928 - top-5-accuracy: 0.9922 - val_loss: 1.1175 - val_accuracy: 0.6977 - val_top-5-accuracy: 0.9070\n",
      "Epoch 130/140\n",
      "13/13 [==============================] - 5s 387ms/step - loss: 0.3927 - accuracy: 0.8915 - top-5-accuracy: 0.9884 - val_loss: 0.8961 - val_accuracy: 0.7558 - val_top-5-accuracy: 0.9302\n",
      "Epoch 131/140\n",
      "13/13 [==============================] - 5s 384ms/step - loss: 0.2613 - accuracy: 0.9212 - top-5-accuracy: 0.9948 - val_loss: 1.0091 - val_accuracy: 0.6977 - val_top-5-accuracy: 0.9070\n",
      "Epoch 132/140\n",
      "13/13 [==============================] - 5s 392ms/step - loss: 0.2428 - accuracy: 0.9289 - top-5-accuracy: 0.9961 - val_loss: 0.9594 - val_accuracy: 0.7209 - val_top-5-accuracy: 0.9535\n",
      "Epoch 133/140\n",
      "13/13 [==============================] - 5s 383ms/step - loss: 0.4434 - accuracy: 0.8811 - top-5-accuracy: 0.9884 - val_loss: 1.0635 - val_accuracy: 0.7326 - val_top-5-accuracy: 0.9186\n",
      "Epoch 134/140\n",
      "13/13 [==============================] - 5s 385ms/step - loss: 0.2944 - accuracy: 0.9160 - top-5-accuracy: 0.9961 - val_loss: 1.1687 - val_accuracy: 0.7442 - val_top-5-accuracy: 0.9186\n",
      "Epoch 135/140\n",
      "13/13 [==============================] - 5s 386ms/step - loss: 0.3605 - accuracy: 0.9057 - top-5-accuracy: 0.9935 - val_loss: 1.1788 - val_accuracy: 0.7326 - val_top-5-accuracy: 0.8953\n",
      "Epoch 136/140\n",
      "13/13 [==============================] - 5s 384ms/step - loss: 0.3041 - accuracy: 0.8992 - top-5-accuracy: 0.9961 - val_loss: 1.1320 - val_accuracy: 0.7674 - val_top-5-accuracy: 0.9302\n",
      "Epoch 137/140\n",
      "13/13 [==============================] - 5s 386ms/step - loss: 0.2678 - accuracy: 0.9238 - top-5-accuracy: 0.9974 - val_loss: 1.0931 - val_accuracy: 0.7093 - val_top-5-accuracy: 0.9186\n",
      "Epoch 138/140\n",
      "13/13 [==============================] - 5s 385ms/step - loss: 0.2557 - accuracy: 0.9315 - top-5-accuracy: 0.9974 - val_loss: 1.0578 - val_accuracy: 0.7442 - val_top-5-accuracy: 0.9186\n",
      "Epoch 139/140\n",
      "13/13 [==============================] - 5s 385ms/step - loss: 0.2654 - accuracy: 0.9173 - top-5-accuracy: 0.9974 - val_loss: 1.2208 - val_accuracy: 0.7326 - val_top-5-accuracy: 0.9186\n",
      "Epoch 140/140\n",
      "13/13 [==============================] - 5s 382ms/step - loss: 0.3410 - accuracy: 0.9044 - top-5-accuracy: 0.9910 - val_loss: 1.3236 - val_accuracy: 0.6860 - val_top-5-accuracy: 0.9302\n",
      "7/7 [==============================] - 1s 71ms/step - loss: 1.0386 - accuracy: 0.6806 - top-5-accuracy: 0.9259\n",
      "Test accuracy: 68.06%\n",
      "Test top 5 accuracy: 92.59%\n"
     ]
    }
   ],
   "source": [
    "history = run_experiment(vit_classifier)"
   ]
  },
  {
   "cell_type": "code",
   "execution_count": 25,
   "metadata": {
    "colab": {
     "base_uri": "https://localhost:8080/",
     "height": 283
    },
    "id": "fq2VElxuYDyY",
    "outputId": "dc347291-484a-4c96-fffb-739c466b04ec"
   },
   "outputs": [
    {
     "data": {
      "image/png": "[encoded data removed]",
      "text/plain": [
       "<Figure size 432x288 with 1 Axes>"
      ]
     },
     "metadata": {
      "needs_background": "light"
     },
     "output_type": "display_data"
    }
   ],
   "source": [
    "plt.plot(history.history['accuracy'], label='accuracy')\n",
    "plt.plot(history.history['val_accuracy'], label = 'val_accuracy')\n",
    "plt.xlabel('Epoch')\n",
    "plt.ylabel('Accuracy')\n",
    "plt.ylim([0.2, 1])\n",
    "plt.legend(loc='lower right')\n",
    "plt.show()"
   ]
  },
  {
   "cell_type": "code",
   "execution_count": 21,
   "metadata": {
    "colab": {
     "base_uri": "https://localhost:8080/",
     "height": 295
    },
    "id": "j5fbRrGKjYXR",
    "outputId": "cb3a0d89-de80-46f2-9d37-5f7251f94a11"
   },
   "outputs": [
    {
     "data": {
      "image/png": "[encoded data removed]",
      "text/plain": [
       "<Figure size 432x288 with 1 Axes>"
      ]
     },
     "metadata": {
      "needs_background": "light"
     },
     "output_type": "display_data"
    }
   ],
   "source": [
    "plt.plot(history.history['loss'])\n",
    "plt.plot(history.history['val_loss'])\n",
    "plt.title('Loss vs. epochs')\n",
    "plt.ylabel('Loss')\n",
    "plt.xlabel('Epoch')\n",
    "plt.legend(['Training', 'Validation'], loc='upper right')\n",
    "plt.show() "
   ]
  },
  {
   "cell_type": "code",
   "execution_count": 22,
   "metadata": {
    "id": "yL2ZLUuEXW7r"
   },
   "outputs": [],
   "source": [
    "with open(\"test.npy\", \"rb\") as f:\n",
    "  X_val = np.load(f)\n",
    "  y_val = np.load(f)\n",
    "\n",
    "X_val = X_val / 255.0"
   ]
  },
  {
   "cell_type": "code",
   "execution_count": 30,
   "metadata": {
    "id": "5osJYW6kisTi"
   },
   "outputs": [],
   "source": [
    "# Save the weights\n",
    "vit_classifier.save_weights('./checkpoints-v2/my_checkpoint')"
   ]
  },
  {
   "cell_type": "code",
   "execution_count": 37,
   "metadata": {
    "id": "kMBovrmJ360q"
   },
   "outputs": [],
   "source": [
    "model = create_vit_classifier()"
   ]
  },
  {
   "cell_type": "code",
   "execution_count": 38,
   "metadata": {
    "colab": {
     "base_uri": "https://localhost:8080/"
    },
    "id": "1hSGTIPs4Ayi",
    "outputId": "78e985c8-dc9b-417a-b1e6-eba8cb3d79e2"
   },
   "outputs": [
    {
     "data": {
      "text/plain": [
       "<tensorflow.python.training.tracking.util.CheckpointLoadStatus at 0x7f5947eca190>"
      ]
     },
     "execution_count": 38,
     "metadata": {},
     "output_type": "execute_result"
    }
   ],
   "source": [
    "model.load_weights('./checkpoints-v2/my_checkpoint')"
   ]
  },
  {
   "cell_type": "code",
   "execution_count": 39,
   "metadata": {
    "id": "edXSuZsE4E6w"
   },
   "outputs": [],
   "source": [
    "optimizer = tfa.optimizers.AdamW(\n",
    "        learning_rate=learning_rate, weight_decay=weight_decay\n",
    "    )\n",
    "\n",
    "model.compile(\n",
    "        optimizer=optimizer,\n",
    "        loss=keras.losses.SparseCategoricalCrossentropy(from_logits=True),\n",
    "        metrics=[\n",
    "            keras.metrics.SparseCategoricalAccuracy(name=\"accuracy\"),\n",
    "            keras.metrics.SparseTopKCategoricalAccuracy(5, name=\"top-5-accuracy\"),\n",
    "        ],\n",
    "    )"
   ]
  },
  {
   "cell_type": "code",
   "execution_count": 40,
   "metadata": {
    "colab": {
     "base_uri": "https://localhost:8080/"
    },
    "id": "wHcGTk2S4THh",
    "outputId": "44a54fa0-2c23-4d35-b30a-1d6dfa96c125"
   },
   "outputs": [
    {
     "name": "stdout",
     "output_type": "stream",
     "text": [
      "9/9 [==============================] - 2s 77ms/step - loss: 5.1016 - accuracy: 0.4819 - top-5-accuracy: 0.8043\n",
      "loss:5.101625442504883,accuracy:0.48188406229019165.\n"
     ]
    }
   ],
   "source": [
    "values = model.evaluate(X_val, y_val)\n",
    "print(\"{}:{},{}:{}.\".format(model.metrics_names[0],values[0],model.metrics_names[1],values[1]))"
   ]
  }
 ],
 "metadata": {
  "accelerator": "GPU",
  "colab": {
   "collapsed_sections": [],
   "name": "image_classification_with_vision_transformer.ipynb",
   "provenance": []
  },
  "environment": {
   "name": "tf2-gpu.2-4.m61",
   "type": "gcloud",
   "uri": "gcr.io/deeplearning-platform-release/tf2-gpu.2-4:m61"
  },
  "kernelspec": {
   "display_name": "Python 3 (ipykernel)",
   "language": "python",
   "name": "python3"
  },
  "language_info": {
   "codemirror_mode": {
    "name": "ipython",
    "version": 3
   },
   "file_extension": ".py",
   "mimetype": "text/x-python",
   "name": "python",
   "nbconvert_exporter": "python",
   "pygments_lexer": "ipython3",
   "version": "3.7.0"
  },
  "latex_envs": {
   "LaTeX_envs_menu_present": true,
   "autoclose": false,
   "autocomplete": true,
   "bibliofile": "biblio.bib",
   "cite_by": "apalike",
   "current_citInitial": 1,
   "eqLabelWithNumbers": true,
   "eqNumInitial": 1,
   "hotkeys": {
    "equation": "Ctrl-E",
    "itemize": "Ctrl-I"
   },
   "labels_anchors": false,
   "latex_user_defs": false,
   "report_style_numbering": false,
   "user_envs_cfg": false
  }
 },
 "nbformat": 4,
 "nbformat_minor": 1
}
