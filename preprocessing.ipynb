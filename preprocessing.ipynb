{
  "nbformat": 4,
  "nbformat_minor": 0,
  "metadata": {
    "colab": {
      "name": "preprocessing.ipynb",
      "provenance": []
    },
    "kernelspec": {
      "name": "python3",
      "display_name": "Python 3"
    },
    "language_info": {
      "name": "python"
    }
  },
  "cells": [
    {
      "cell_type": "code",
      "execution_count": 1,
      "metadata": {
        "colab": {
          "base_uri": "https://localhost:8080/"
        },
        "id": "YU9b9zKJavUD",
        "outputId": "cf91c194-61ae-4ba0-91de-549fde153f6c"
      },
      "outputs": [
        {
          "output_type": "stream",
          "name": "stdout",
          "text": [
            "Mounted at /content/drive/\n"
          ]
        }
      ],
      "source": [
        "from google.colab import drive\n",
        "drive.mount('/content/drive/')"
      ]
    },
    {
      "cell_type": "code",
      "source": [
        "import os\n",
        "from pathlib import Path\n",
        "import numpy as np\n",
        "import matplotlib.pyplot as plt\n",
        "import matplotlib.image as mpimg"
      ],
      "metadata": {
        "id": "RXwIh3ira3b_"
      },
      "execution_count": null,
      "outputs": []
    },
    {
      "cell_type": "code",
      "source": [
        "path = os.getcwd()\n",
        "print(path)"
      ],
      "metadata": {
        "colab": {
          "base_uri": "https://localhost:8080/"
        },
        "id": "7sEAbX08azsl",
        "outputId": "4173a5b3-1df1-4209-c965-d37db5d00d56"
      },
      "execution_count": 4,
      "outputs": [
        {
          "output_type": "stream",
          "name": "stdout",
          "text": [
            "/content\n"
          ]
        }
      ]
    },
    {
      "cell_type": "code",
      "source": [
        "class_names = ['agricultural', 'airplane', 'baseballdiamond', 'beach', 'buildings',\n",
        "               'chaparral', 'denseresidential', 'forest', 'freeway', 'golfcourse',\n",
        "               'harbor', 'intersection', 'mediumresidential', 'mobilehomepark',\n",
        "               'overpass', 'parkinglot', 'river', 'runway', 'sparseresidential',\n",
        "               'storagetanks', 'tenniscourt']"
      ],
      "metadata": {
        "id": "mclSCqPla6or"
      },
      "execution_count": 5,
      "outputs": []
    },
    {
      "cell_type": "code",
      "source": [
        "os.chdir(\"drive/MyDrive/Challenge_dataset/train/\")"
      ],
      "metadata": {
        "id": "-rmguXDaa8nA"
      },
      "execution_count": 6,
      "outputs": []
    },
    {
      "cell_type": "code",
      "source": [
        "import cv2 as cv\n",
        "from skimage import io\n",
        "\n",
        "X = []\n",
        "y = []\n",
        "error = []\n",
        "counter = 0\n",
        "\n",
        "for c in class_names:\n",
        "  os.chdir(os.getcwd() + \"/\" + c)\n",
        "  print(os.getcwd())\n",
        "  files = os.listdir(os.getcwd()) \n",
        "  print(files)\n",
        "  for file in files: \n",
        "    img = cv.imread(file)\n",
        "    if(img.shape == (256, 256, 3)):\n",
        "      X.append(img)\n",
        "      y.append(counter)\n",
        "    else:\n",
        "      error.append(c + file)\n",
        "  os.chdir(os.path.abspath(os.path.join(os.path.dirname(\"__file__\"),os.path.pardir)))\n",
        "  print(os.getcwd())\n",
        "  counter += 1"
      ],
      "metadata": {
        "colab": {
          "base_uri": "https://localhost:8080/",
          "height": 450
        },
        "id": "Fdh_pQ5ca-9Y",
        "outputId": "012ad51e-b093-4dbb-c0bd-d00cb45f148d"
      },
      "execution_count": 7,
      "outputs": [
        {
          "output_type": "stream",
          "name": "stdout",
          "text": [
            "/content/drive/MyDrive/Challenge_dataset/train/agricultural\n",
            "['agricultural00.tif', 'agricultural01.tif', 'agricultural02.tif', 'agricultural03.tif', 'agricultural05.tif', 'agricultural06.tif', 'agricultural07.tif', 'agricultural08.tif', 'agricultural09.tif', 'agricultural11.tif', 'agricultural13.tif', 'agricultural14.tif', 'agricultural15.tif', 'agricultural18.tif', 'agricultural20.tif', 'agricultural21.tif', 'agricultural22.tif', 'agricultural23.tif', 'agricultural24.tif', 'agricultural25.tif', 'agricultural27.tif', 'agricultural28.tif', 'agricultural29.tif', 'agricultural32.tif', 'agricultural33.tif', 'agricultural34.tif', 'agricultural35.tif', 'agricultural36.tif', 'agricultural37.tif', 'agricultural38.tif', 'agricultural39.tif', 'agricultural40.tif', 'agricultural41.tif', 'agricultural42.tif', 'agricultural43.tif', 'agricultural44.tif', 'agricultural45.tif', 'agricultural46.tif', 'agricultural47.tif', 'agricultural48.tif', 'agricultural49.tif', 'agricultural50.tif', 'agricultural51.tif', 'agricultural52.tif', 'agricultural53.tif', 'agricultural54.tif', 'agricultural55.tif', 'agricultural56.tif', 'agricultural57.tif', 'agricultural58.tif', 'agricultural59.tif', 'agricultural60.tif', 'agricultural61.tif', 'agricultural62.tif', 'agricultural63.tif', 'agricultural64.tif', 'agricultural66.tif', 'agricultural67.tif', 'agricultural68.tif', 'agricultural69.tif', 'agricultural70.tif', 'agricultural71.tif', 'agricultural72.tif', 'agricultural73.tif', 'agricultural74.tif', 'agricultural75.tif', 'agricultural78.tif', 'agricultural80.tif', 'agricultural81.tif', 'agricultural82.tif', 'agricultural83.tif', 'agricultural84.tif', 'agricultural76.tif', 'agricultural65.tif', 'agricultural31.tif', 'agricultural04.tif', 'agricultural30.tif', 'agricultural77.tif', 'agricultural79.tif', 'agricultural17.tif', 'agricultural10.tif', 'agricultural19.tif', 'agricultural26.tif', 'agricultural16.tif', 'agricultural12.tif']\n",
            "/content/drive/MyDrive/Challenge_dataset/train\n",
            "/content/drive/MyDrive/Challenge_dataset/train/airplane\n",
            "['airplane01.tif', 'airplane02.tif', 'airplane03.tif', 'airplane04.tif', 'airplane05.tif', 'airplane06.tif', 'airplane07.tif', 'airplane08.tif', 'airplane09.tif', 'airplane10.tif', 'airplane11.tif', 'airplane12.tif', 'airplane13.tif', 'airplane14.tif', 'airplane15.tif', 'airplane16.tif', 'airplane17.tif', 'airplane18.tif', 'airplane19.tif', 'airplane20.tif', 'airplane00.tif', 'airplane21.tif', 'airplane22.tif', 'airplane23.tif', 'airplane24.tif', 'airplane26.tif', 'airplane27.tif', 'airplane28.tif', 'airplane29.tif', 'airplane30.tif', 'airplane31.tif', 'airplane32.tif', 'airplane33.tif', 'airplane34.tif', 'airplane35.tif', 'airplane36.tif', 'airplane37.tif', 'airplane25.tif', 'airplane38.tif', 'airplane39.tif', 'airplane40.tif', 'airplane41.tif', 'airplane42.tif', 'airplane43.tif', 'airplane44.tif', 'airplane45.tif', 'airplane46.tif', 'airplane47.tif', 'airplane48.tif', 'airplane49.tif', 'airplane50.tif']\n",
            "/content/drive/MyDrive/Challenge_dataset/train\n",
            "/content/drive/MyDrive/Challenge_dataset/train/baseballdiamond\n",
            "['baseballdiamond01.tif', 'baseballdiamond02.tif', 'baseballdiamond03.tif', 'baseballdiamond00.tif', 'baseballdiamond04.tif', 'baseballdiamond05.tif', 'baseballdiamond06.tif', 'baseballdiamond07.tif', 'baseballdiamond08.tif', 'baseballdiamond09.tif', 'baseballdiamond10.tif', 'baseballdiamond11.tif', 'baseballdiamond12.tif', 'baseballdiamond13.tif', 'baseballdiamond14.tif', 'baseballdiamond15.tif', 'baseballdiamond16.tif', 'baseballdiamond17.tif', 'baseballdiamond18.tif', 'baseballdiamond19.tif', 'baseballdiamond20.tif', 'baseballdiamond21.tif', 'baseballdiamond22.tif', 'baseballdiamond23.tif', 'baseballdiamond24.tif', 'baseballdiamond25.tif', 'baseballdiamond26.tif', 'baseballdiamond27.tif', 'baseballdiamond28.tif', 'baseballdiamond29.tif', 'baseballdiamond30.tif', 'baseballdiamond31.tif', 'baseballdiamond32.tif', 'baseballdiamond33.tif', 'baseballdiamond34.tif']\n",
            "/content/drive/MyDrive/Challenge_dataset/train\n",
            "/content/drive/MyDrive/Challenge_dataset/train/beach\n",
            "['beach00.tif', 'beach01.tif', 'beach02.tif', 'beach03.tif', 'beach04.tif', 'beach05.tif', 'beach06.tif', 'beach07.tif', 'beach08.tif', 'beach09.tif', 'beach10.tif', 'beach11.tif', 'beach12.tif', 'beach13.tif', 'beach14.tif', 'beach15.tif', 'beach16.tif', 'beach17.tif', 'beach18.tif', 'beach19.tif', 'beach20.tif', 'beach21.tif', 'beach22.tif', 'beach23.tif', 'beach24.tif', 'beach25.tif', 'beach26.tif', 'beach27.tif', 'beach28.tif', 'beach29.tif', 'beach30.tif', 'beach31.tif', 'beach32.tif', 'beach33.tif', 'beach34.tif', 'beach35.tif', 'beach36.tif', 'beach37.tif', 'beach38.tif', 'beach39.tif', 'beach40.tif', 'beach41.tif', 'beach42.tif', 'beach43.tif', 'beach44.tif', 'beach45.tif', 'beach46.tif', 'beach47.tif', 'beach48.tif', 'beach49.tif', 'beach50.tif', 'beach51.tif', 'beach52.tif', 'beach53.tif', 'beach54.tif', 'beach55.tif', 'beach56.tif', 'beach57.tif', 'beach58.tif', 'beach59.tif', 'beach60.tif', 'beach61.tif', 'beach62.tif', 'beach63.tif', 'beach64.tif', 'beach65.tif', 'beach66.tif', 'beach67.tif', 'beach68.tif', 'beach69.tif', 'beach70.tif', 'beach71.tif', 'beach72.tif', 'beach73.tif', 'beach74.tif', 'beach75.tif', 'beach76.tif', 'beach77.tif', 'beach78.tif', 'beach79.tif', 'beach80.tif']\n"
          ]
        },
        {
          "output_type": "error",
          "ename": "KeyboardInterrupt",
          "evalue": "ignored",
          "traceback": [
            "\u001b[0;31m---------------------------------------------------------------------------\u001b[0m",
            "\u001b[0;31mKeyboardInterrupt\u001b[0m                         Traceback (most recent call last)",
            "\u001b[0;32m<ipython-input-7-4c991462c3b9>\u001b[0m in \u001b[0;36m<module>\u001b[0;34m()\u001b[0m\n\u001b[1;32m     13\u001b[0m   \u001b[0mprint\u001b[0m\u001b[0;34m(\u001b[0m\u001b[0mfiles\u001b[0m\u001b[0;34m)\u001b[0m\u001b[0;34m\u001b[0m\u001b[0;34m\u001b[0m\u001b[0m\n\u001b[1;32m     14\u001b[0m   \u001b[0;32mfor\u001b[0m \u001b[0mfile\u001b[0m \u001b[0;32min\u001b[0m \u001b[0mfiles\u001b[0m\u001b[0;34m:\u001b[0m\u001b[0;34m\u001b[0m\u001b[0;34m\u001b[0m\u001b[0m\n\u001b[0;32m---> 15\u001b[0;31m     \u001b[0mimg\u001b[0m \u001b[0;34m=\u001b[0m \u001b[0mcv\u001b[0m\u001b[0;34m.\u001b[0m\u001b[0mimread\u001b[0m\u001b[0;34m(\u001b[0m\u001b[0mfile\u001b[0m\u001b[0;34m)\u001b[0m\u001b[0;34m\u001b[0m\u001b[0;34m\u001b[0m\u001b[0m\n\u001b[0m\u001b[1;32m     16\u001b[0m     \u001b[0;32mif\u001b[0m\u001b[0;34m(\u001b[0m\u001b[0mimg\u001b[0m\u001b[0;34m.\u001b[0m\u001b[0mshape\u001b[0m \u001b[0;34m==\u001b[0m \u001b[0;34m(\u001b[0m\u001b[0;36m256\u001b[0m\u001b[0;34m,\u001b[0m \u001b[0;36m256\u001b[0m\u001b[0;34m,\u001b[0m \u001b[0;36m3\u001b[0m\u001b[0;34m)\u001b[0m\u001b[0;34m)\u001b[0m\u001b[0;34m:\u001b[0m\u001b[0;34m\u001b[0m\u001b[0;34m\u001b[0m\u001b[0m\n\u001b[1;32m     17\u001b[0m       \u001b[0mX\u001b[0m\u001b[0;34m.\u001b[0m\u001b[0mappend\u001b[0m\u001b[0;34m(\u001b[0m\u001b[0mimg\u001b[0m\u001b[0;34m)\u001b[0m\u001b[0;34m\u001b[0m\u001b[0;34m\u001b[0m\u001b[0m\n",
            "\u001b[0;31mKeyboardInterrupt\u001b[0m: "
          ]
        }
      ]
    },
    {
      "cell_type": "code",
      "source": [
        "X = np.array(X)\n",
        "y = np.array(y)\n",
        "print(X.shape, y.shape)"
      ],
      "metadata": {
        "id": "COJudri5bK04"
      },
      "execution_count": null,
      "outputs": []
    },
    {
      "cell_type": "code",
      "source": [
        "os.chdir(os.path.abspath(os.path.join(os.path.dirname(\"__file__\"),os.path.pardir)))\n",
        "print(os.getcwd())"
      ],
      "metadata": {
        "id": "C2z_umu_bV_J"
      },
      "execution_count": null,
      "outputs": []
    },
    {
      "cell_type": "code",
      "source": [
        "with open('train.npy', 'wb') as f:\n",
        "  np.save(f, X)\n",
        "  np.save(f, y)"
      ],
      "metadata": {
        "id": "gsPQtKPrbasi"
      },
      "execution_count": null,
      "outputs": []
    },
    {
      "cell_type": "code",
      "source": [
        "os.chdir(os.getcwd()+\"/test\")"
      ],
      "metadata": {
        "id": "wls73JZhbdc8"
      },
      "execution_count": null,
      "outputs": []
    },
    {
      "cell_type": "code",
      "source": [
        "X_test = []\n",
        "y_test = []\n",
        "counter = 0\n",
        "error = []\n",
        "\n",
        "for c in class_names:\n",
        "  os.chdir(os.getcwd() + \"/\" + c)\n",
        "  print(os.getcwd())\n",
        "  files = os.listdir(os.getcwd()) \n",
        "  print(files)\n",
        "  for file in files: #遍历文件夹\n",
        "    img = cv.imread(file)\n",
        "    \n",
        "    if(img.shape == (256, 256, 3)):\n",
        "      X_test.append(img)\n",
        "      y_test.append(counter)\n",
        "    else:\n",
        "      error.append(c + file)\n",
        "\n",
        "  os.chdir(os.path.abspath(os.path.join(os.path.dirname(\"__file__\"),os.path.pardir)))\n",
        "  print(os.getcwd())\n",
        "  counter += 1"
      ],
      "metadata": {
        "id": "Gc2iIGbvbeEL"
      },
      "execution_count": null,
      "outputs": []
    },
    {
      "cell_type": "code",
      "source": [
        "X_test = np.array(X_test)\n",
        "y_test = np.array(y_test)\n",
        "print(X_test.shape, y_test.shape)"
      ],
      "metadata": {
        "id": "-zWJPEOLbh57"
      },
      "execution_count": null,
      "outputs": []
    },
    {
      "cell_type": "code",
      "source": [
        "os.chdir(os.path.abspath(os.path.join(os.path.dirname(\"__file__\"),os.path.pardir)))\n",
        "os.getcwd()"
      ],
      "metadata": {
        "id": "dSsNHsgJblmv"
      },
      "execution_count": null,
      "outputs": []
    },
    {
      "cell_type": "code",
      "source": [
        "with open('test.npy', 'wb') as f:\n",
        "  np.save(f, X_test)\n",
        "  np.save(f, y_test)"
      ],
      "metadata": {
        "id": "U4kkMcCpbmUM"
      },
      "execution_count": null,
      "outputs": []
    }
  ]
}